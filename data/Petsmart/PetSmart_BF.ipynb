{
 "cells": [
  {
   "cell_type": "code",
   "execution_count": 144,
   "id": "bd0cf246",
   "metadata": {},
   "outputs": [],
   "source": [
    "import requests\n",
    "import bs4\n",
    "import pandas as pd\n",
    "#url = \"https://www.petsmart.com/dog/toys/\"\n",
    "url = \"https://www.petsmart.com/dog/treats/\"\n",
    "\n",
    "headers = {\"User-Agent\": \"Mozilla/5.0 (Macintosh; Intel Mac OS X 12_5) AppleWebKit/537.36 (KHTML, like Gecko) Chrome/105.0.0.0 Safari/537.36\",\n",
    "\"referer\": \"https://www.petsmart.com/\"}\n",
    "\n",
    "\n",
    "res = requests.get(url, timeout=5, headers=headers)"
   ]
  },
  {
   "cell_type": "code",
   "execution_count": 145,
   "id": "6f401b25",
   "metadata": {},
   "outputs": [],
   "source": [
    "import re\n",
    "def find_number(s):\n",
    "    match_res = re.match(r'^\\$[0-9]+(\\.)?[0-9]*', s)\n",
    "    if match_res:\n",
    "        return match_res.group(0)\n",
    "    return None"
   ]
  },
  {
   "cell_type": "code",
   "execution_count": 146,
   "id": "cdd903fc",
   "metadata": {},
   "outputs": [],
   "source": [
    "def find_review_number(s):\n",
    "    re_count = \"\"\n",
    "    for c in s:\n",
    "        if '0' <= c <= '9':\n",
    "            re_count += c\n",
    "    return int(re_count)"
   ]
  },
  {
   "cell_type": "code",
   "execution_count": 147,
   "id": "942144fa",
   "metadata": {},
   "outputs": [],
   "source": [
    "def scrape_one_page(res_content, items):\n",
    "    soup = bs4.BeautifulSoup(res_content, 'html.parser')\n",
    "    page_one_items = soup.find_all(\"div\", {\"class\": \"product-tile\"})  \n",
    "    \n",
    "    for item in page_one_items:\n",
    "        item_dicc = {\"name\": \"\", \"price\": -1, \"review\": -1, \"message\": \"\"}\n",
    "        # Get the name of the product\n",
    "        title_div = item.find_all(\"div\", {\"class\": \"product-name\"})\n",
    "        if len(title_div) > 0:\n",
    "            item_dicc[\"name\"] = title_div[0].text\n",
    "        # Get the price\n",
    "        price_div = item.find_all(\"span\", {\"class\": \"price-regular\"})\n",
    "        if len(price_div) > 0:\n",
    "            item_dicc[\"price\"] = price_div[0].text\n",
    "        else:\n",
    "            price_sale_div = item.find_all(\"span\", {\"class\": \"price-sales\"})\n",
    "            if len(price_sale_div) > 0:\n",
    "                item_dicc[\"price\"] = price_sale_div[0].text\n",
    "        # Get the rating count\n",
    "        rating_count_div = item.find_all(\"div\", {\"class\": \"bv-review-count\"})\n",
    "        if len(rating_count_div) > 0:\n",
    "            item_dicc[\"review\"] = find_review_number(rating_count_div[0].text)\n",
    "        # Get product message\n",
    "        prod_info_msg = item.find_all(\"div\", {\"class\": \"promotional-message\"})\n",
    "        if len(prod_info_msg) > 0:\n",
    "            item_dicc[\"message\"] = prod_info_msg[0].text #prod_info_msg[1].text\n",
    "        # Append the item\n",
    "        items.append(item_dicc)"
   ]
  },
  {
   "cell_type": "code",
   "execution_count": 148,
   "id": "d41c97a0",
   "metadata": {},
   "outputs": [],
   "source": [
    "res = requests.get(url, timeout=5, headers=headers)"
   ]
  },
  {
   "cell_type": "code",
   "execution_count": 149,
   "id": "c022c57c",
   "metadata": {},
   "outputs": [],
   "source": [
    "res_content = res.content\n",
    "items = []\n"
   ]
  },
  {
   "cell_type": "code",
   "execution_count": 150,
   "id": "1061fa85",
   "metadata": {},
   "outputs": [],
   "source": [
    "scrape_one_page(res_content, items)"
   ]
  },
  {
   "cell_type": "code",
   "execution_count": 151,
   "id": "9a637a6a",
   "metadata": {},
   "outputs": [
    {
     "data": {
      "text/plain": [
       "[{'name': \"\\nDentley's® Rawhide-Free Turkey Tendon Rings Dog Chew - 6 Count\\n\",\n",
       "  'price': 'Old Price\\n$9.99\\n',\n",
       "  'review': 161,\n",
       "  'message': '\\nBuy 1, Get 1 25% Off All Dog Treats & Chews\\n'},\n",
       " {'name': '\\nDentley\\'s® Rawhide-Free 3.5\" Turkey Tendon Bone Dog Chew - 1 Count\\n',\n",
       "  'price': 'Old Price\\n$1.99\\n',\n",
       "  'review': 106,\n",
       "  'message': '\\nBuy 1, Get 1 25% Off All Dog Treats & Chews\\n'},\n",
       " {'name': '\\nGreat Choice® Dog Jerky Treat - Chicken\\n',\n",
       "  'price': 'Old Price\\n$15.99\\n-\\n41.99\\n',\n",
       "  'review': 266,\n",
       "  'message': '\\nBuy 1, Get 1 25% Off All Dog Treats & Chews\\n'},\n",
       " {'name': '\\nDentley\\'s® Gourmet 5\" Retriever Sticks Dog Chew - Chicken\\n',\n",
       "  'price': 'Old Price\\n$9.99\\n-\\n17.99\\n',\n",
       "  'review': 173,\n",
       "  'message': '\\nBuy 1, Get 1 25% Off All Dog Treats & Chews\\n'},\n",
       " {'name': \"\\nDentley's® Gourmet Rawhide Stuffed Rolls Dog Treats - Sweet Potato & Chicken\\n\",\n",
       "  'price': 'Old Price\\n$10.99\\n-\\n23.99\\n',\n",
       "  'review': 134,\n",
       "  'message': '\\nBuy 1, Get 1 25% Off All Dog Treats & Chews\\n'},\n",
       " {'name': '\\nSimply Nourish® Soft Chews Original Dog Protein Stick Treat - Chicken & Cheese\\n',\n",
       "  'price': 'Old Price\\n$6.99\\n',\n",
       "  'review': 32,\n",
       "  'message': '\\nBuy 1, Get 1 25% Off All Dog Treats & Chews\\n'},\n",
       " {'name': '\\nGreenies™ Adult Regular Dog Dental Treats - Natural, Oral Health, Original\\n',\n",
       "  'price': 'Discounted Price\\n$4.98\\n-\\n53.99\\n',\n",
       "  'review': 7839,\n",
       "  'message': '\\nSave 35% On Your First Autoship Order!\\n'},\n",
       " {'name': '\\nGreat Choice® Dog Wrapped Treat - Chicken & Sweet Potato\\n',\n",
       "  'price': 'Old Price\\n$15.99\\n-\\n24.99\\n',\n",
       "  'review': 146,\n",
       "  'message': '\\nBuy 1, Get 1 25% Off All Dog Treats & Chews\\n'},\n",
       " {'name': '\\nDentley\\'s® Rawhide-Free 5\" Retriever Sticks Dog Chew - Chicken, 10 Count\\n',\n",
       "  'price': 'Old Price\\n$9.99\\n',\n",
       "  'review': 120,\n",
       "  'message': '\\nBuy 1, Get 1 25% Off All Dog Treats & Chews\\n'},\n",
       " {'name': '\\nMilk-Bone Soft & Chewy Dog Treat All Ages - Filet Mignon\\n',\n",
       "  'price': 'Discounted Price\\n$12.99\\n',\n",
       "  'review': 240,\n",
       "  'message': '\\nBuy 1, Get 1 25% Off All Dog Treats & Chews\\n'},\n",
       " {'name': \"\\nDentley's® Rawhide-Free Turkey Tendon Bone Dog Chew - 1 Count\\n\",\n",
       "  'price': 'Old Price\\n$9.99\\n',\n",
       "  'review': 86,\n",
       "  'message': '\\nBuy 1, Get 1 25% Off All Dog Treats & Chews\\n'},\n",
       " {'name': '\\nGreenies™ Adult Large Dog Dental Treats - Natural, Oral Health, Original\\n',\n",
       "  'price': 'Discounted Price\\n$8.98\\n-\\n53.99\\n',\n",
       "  'review': 16171,\n",
       "  'message': '\\nSave 35% On Your First Autoship Order!\\n'},\n",
       " {'name': '\\nSimply Nourish® Original Soft Chews Dog Treat - Peanut Butter\\n',\n",
       "  'price': 'Old Price\\n$6.99\\n',\n",
       "  'review': 22,\n",
       "  'message': '\\nBuy 1, Get 1 25% Off All Dog Treats & Chews\\n'},\n",
       " {'name': '\\nSimply Nourish® Original Soft Chews Dog Treat - Bacon & Cheese\\n',\n",
       "  'price': 'Old Price\\n$6.99\\n',\n",
       "  'review': 345,\n",
       "  'message': '\\nBuy 1, Get 1 25% Off All Dog Treats & Chews\\n'},\n",
       " {'name': '\\nGreenies™ Adult Teenie Dog Dental Treats - Natural, Oral Health, Original\\n',\n",
       "  'price': 'Discounted Price\\n$4.98\\n-\\n53.99\\n',\n",
       "  'review': 9009,\n",
       "  'message': '\\nSave 35% On Your First Autoship Order!\\n'},\n",
       " {'name': '\\nSimply Nourish® Soft Chews Original Dog Protein Stick Treat - Bacon & Cheese\\n',\n",
       "  'price': 'Old Price\\n$6.59\\n',\n",
       "  'review': 32,\n",
       "  'message': '\\nBuy 1, Get 1 25% Off All Dog Treats & Chews\\n'},\n",
       " {'name': '\\nSimply Nourish® Source Dog Freeze-Dried Treat - Chicken, 10 Oz.\\n',\n",
       "  'price': 'Old Price\\n$19.99\\n',\n",
       "  'review': 184,\n",
       "  'message': '\\nBuy 1, Get 1 25% Off All Dog Treats & Chews\\n'},\n",
       " {'name': \"\\nPurina® Beggin'® Strips Adult Dog Wet Food - 26.6 oz., No Artificial Colors, No Artificial Flavors\\n\",\n",
       "  'price': 'Discounted Price\\n$3.49\\n-\\n20.99\\n',\n",
       "  'review': 305,\n",
       "  'message': '\\nSave 35% On Your First Autoship Order!\\n'},\n",
       " {'name': '\\nDentley\\'s® Rawhide-Free 7\" Retriever Rolls Dog Chew - Chicken, 5 Count\\n',\n",
       "  'price': 'Old Price\\n$20.99\\n',\n",
       "  'review': 105,\n",
       "  'message': '\\nBuy 1, Get 1 25% Off All Dog Treats & Chews\\n'},\n",
       " {'name': '\\nDentley\\'s® Nature\\'s Chews 9\" Braided Bully Dog Chew - 2 Count\\n',\n",
       "  'price': 'Old Price\\n$21.99\\n',\n",
       "  'review': 99,\n",
       "  'message': '\\nBuy 1, Get 1 25% Off All Dog Treats & Chews\\n'},\n",
       " {'name': '\\nGreat Choice® Dog Wrapped Treat - Apple & Chicken, 16 Oz.\\n',\n",
       "  'price': 'Old Price\\n$15.99\\n',\n",
       "  'review': 57,\n",
       "  'message': '\\nBuy 1, Get 1 25% Off All Dog Treats & Chews\\n'},\n",
       " {'name': \"\\nDentley's® Medium Filled Femur Bone Dog Chew - Peanut Butter\\n\",\n",
       "  'price': 'Old Price\\n$7.99\\n-\\n12.99\\n',\n",
       "  'review': 118,\n",
       "  'message': '\\nBuy 1, Get 1 25% Off All Dog Treats & Chews\\n'},\n",
       " {'name': '\\nDentley\\'s® Rawhide-Free 6\" Bully Stick Dog Chew - 5 Count\\n',\n",
       "  'price': 'Discounted Price\\n$5.99\\n',\n",
       "  'review': 26,\n",
       "  'message': '\\nBuy 1, Get 1 25% Off All Dog Treats & Chews\\n'},\n",
       " {'name': '\\nBil-Jac® PBnanas Peanut Butter & Banana Soft Dog Treat\\n',\n",
       "  'price': 'Old Price\\n$5.99\\n-\\n8.99\\n',\n",
       "  'review': 166,\n",
       "  'message': '\\nBuy 1, Get 1 25% Off All Dog Treats & Chews\\n'}]"
      ]
     },
     "execution_count": 151,
     "metadata": {},
     "output_type": "execute_result"
    }
   ],
   "source": [
    "items"
   ]
  },
  {
   "cell_type": "code",
   "execution_count": 152,
   "id": "894ba366",
   "metadata": {},
   "outputs": [],
   "source": [
    "def scrape_all(items, page_number, url_prefix, headers):\n",
    "    for i in range(page_number):\n",
    "        url = url_prefix + str(24*(i)) + '&sz=24&format=ajax'\n",
    "        res = requests.get(url, timeout=5, headers=headers)\n",
    "        res_content = res.content\n",
    "        scrape_one_page(res_content, items)\n",
    "        print(\"page{0}\".format(i+1))"
   ]
  },
  {
   "cell_type": "code",
   "execution_count": 153,
   "id": "fd593812",
   "metadata": {},
   "outputs": [],
   "source": [
    "def main(items, page_num):\n",
    "    # Main part to scrape the page\n",
    "    url_prefix = \"https://www.petsmart.com/dog/treats/?pmin=0.01&srule=best-sellers&start=\"\n",
    "    #url_prefix = \"https://www.petsmart.com/dog/toys/?pmin=0.01&srule=best-sellers&start=\"\n",
    "    headers = {\"User-Agent\": \"Mozilla/5.0 (Macintosh; Intel Mac OS X 12_5) AppleWebKit/537.36 (KHTML, like Gecko) Chrome/105.0.0.0 Safari/537.36\",\n",
    "    \"referer\": \"https://www.petsmart.com/\"}\n",
    "    scrape_all(items, page_num, url_prefix, headers)"
   ]
  },
  {
   "cell_type": "code",
   "execution_count": 154,
   "id": "98617a38",
   "metadata": {},
   "outputs": [
    {
     "name": "stdout",
     "output_type": "stream",
     "text": [
      "page1\n",
      "page2\n",
      "page3\n",
      "page4\n",
      "page5\n",
      "page6\n",
      "page7\n",
      "page8\n",
      "page9\n",
      "page10\n",
      "page11\n",
      "page12\n",
      "page13\n",
      "page14\n",
      "page15\n",
      "page16\n",
      "page17\n",
      "page18\n",
      "page19\n",
      "page20\n",
      "page21\n",
      "page22\n",
      "page23\n",
      "page24\n",
      "page25\n",
      "page26\n",
      "page27\n",
      "page28\n",
      "page29\n",
      "page30\n",
      "page31\n",
      "page32\n",
      "page33\n",
      "page34\n",
      "page35\n",
      "page36\n",
      "page37\n",
      "page38\n",
      "page39\n",
      "page40\n",
      "page41\n",
      "page42\n",
      "page43\n",
      "page44\n"
     ]
    }
   ],
   "source": [
    "all_page_items = []\n",
    "main(all_page_items, 44)"
   ]
  },
  {
   "cell_type": "code",
   "execution_count": 155,
   "id": "45159688",
   "metadata": {},
   "outputs": [],
   "source": [
    "pd.DataFrame(all_page_items).to_csv(\"PetSmart_dog_treats_info.csv\", index=False)"
   ]
  },
  {
   "cell_type": "code",
   "execution_count": null,
   "id": "5c0a6ddd",
   "metadata": {},
   "outputs": [],
   "source": []
  },
  {
   "cell_type": "code",
   "execution_count": null,
   "id": "caf058a1",
   "metadata": {},
   "outputs": [],
   "source": []
  }
 ],
 "metadata": {
  "kernelspec": {
   "display_name": "Python 3 (ipykernel)",
   "language": "python",
   "name": "python3"
  },
  "language_info": {
   "codemirror_mode": {
    "name": "ipython",
    "version": 3
   },
   "file_extension": ".py",
   "mimetype": "text/x-python",
   "name": "python",
   "nbconvert_exporter": "python",
   "pygments_lexer": "ipython3",
   "version": "3.9.12"
  }
 },
 "nbformat": 4,
 "nbformat_minor": 5
}
