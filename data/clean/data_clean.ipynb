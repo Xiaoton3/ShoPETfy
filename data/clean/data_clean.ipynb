{
 "cells": [
  {
   "cell_type": "code",
   "execution_count": 1,
   "metadata": {},
   "outputs": [],
   "source": [
    "import pandas as pd\n",
    "import numpy as np\n",
    "import os"
   ]
  },
  {
   "cell_type": "code",
   "execution_count": 2,
   "metadata": {},
   "outputs": [
    {
     "data": {
      "text/plain": [
       "'/Users/conniehe/Documents/95888-DFP/project/ShoPETfy/data/clean'"
      ]
     },
     "execution_count": 2,
     "metadata": {},
     "output_type": "execute_result"
    }
   ],
   "source": [
    "os.getcwd()"
   ]
  },
  {
   "cell_type": "code",
   "execution_count": 3,
   "metadata": {},
   "outputs": [],
   "source": [
    "os.chdir(\"..\")"
   ]
  },
  {
   "cell_type": "code",
   "execution_count": 4,
   "metadata": {},
   "outputs": [
    {
     "data": {
      "text/plain": [
       "'/Users/conniehe/Documents/95888-DFP/project/ShoPETfy/data'"
      ]
     },
     "execution_count": 4,
     "metadata": {},
     "output_type": "execute_result"
    }
   ],
   "source": [
    "os.getcwd()"
   ]
  },
  {
   "cell_type": "code",
   "execution_count": 6,
   "metadata": {},
   "outputs": [],
   "source": [
    "df_chewy_toys = pd.read_csv('chewy/chewy_dog_toys_info.csv')\n",
    "df_chewy_treats = pd.read_csv('chewy/chewy_dog_treats_info.csv')\n",
    "df_amazon_toys = pd.read_csv('amazon/amazon_dog_toys_info.csv')\n",
    "df_amazon_treats = pd.read_csv('amazon/amazon_dog_treats_info.csv')\n"
   ]
  },
  {
   "cell_type": "code",
   "execution_count": 7,
   "metadata": {},
   "outputs": [],
   "source": [
    "df_chewy_toys['category'] = 'toys'\n",
    "df_chewy_treats['category'] = 'treats'\n",
    "df_amazon_toys['category'] = 'toys'\n",
    "df_amazon_treats['category'] = 'treats'"
   ]
  },
  {
   "cell_type": "code",
   "execution_count": 8,
   "metadata": {},
   "outputs": [],
   "source": [
    "# assign channel info\n",
    "df_chewy = pd.concat([df_chewy_toys, df_chewy_treats], ignore_index=True, sort=False)"
   ]
  },
  {
   "cell_type": "code",
   "execution_count": 9,
   "metadata": {},
   "outputs": [],
   "source": [
    "df_chewy['channel'] = 'chewy'"
   ]
  },
  {
   "cell_type": "code",
   "execution_count": 10,
   "metadata": {},
   "outputs": [
    {
     "data": {
      "text/plain": [
       "(7234, 7)"
      ]
     },
     "execution_count": 10,
     "metadata": {},
     "output_type": "execute_result"
    }
   ],
   "source": [
    "df_chewy.shape"
   ]
  },
  {
   "cell_type": "code",
   "execution_count": 11,
   "metadata": {},
   "outputs": [
    {
     "data": {
      "text/plain": [
       "Index(['brand', 'name', 'price', 'review', 'message', 'category', 'channel'], dtype='object')"
      ]
     },
     "execution_count": 11,
     "metadata": {},
     "output_type": "execute_result"
    }
   ],
   "source": [
    "df_chewy.columns"
   ]
  },
  {
   "cell_type": "code",
   "execution_count": 12,
   "metadata": {},
   "outputs": [],
   "source": [
    "# only keep data that has valid brand and name info\n",
    "df_chewy = df_chewy[(df_chewy['brand'].str.len() > 0) & (df_chewy['name'].str.len() > 0)]\n"
   ]
  },
  {
   "cell_type": "code",
   "execution_count": 13,
   "metadata": {},
   "outputs": [
    {
     "data": {
      "text/plain": [
       "(7200, 7)"
      ]
     },
     "execution_count": 13,
     "metadata": {},
     "output_type": "execute_result"
    }
   ],
   "source": [
    "df_chewy.shape"
   ]
  },
  {
   "cell_type": "code",
   "execution_count": 14,
   "metadata": {},
   "outputs": [
    {
     "data": {
      "text/html": [
       "<div>\n",
       "<style scoped>\n",
       "    .dataframe tbody tr th:only-of-type {\n",
       "        vertical-align: middle;\n",
       "    }\n",
       "\n",
       "    .dataframe tbody tr th {\n",
       "        vertical-align: top;\n",
       "    }\n",
       "\n",
       "    .dataframe thead th {\n",
       "        text-align: right;\n",
       "    }\n",
       "</style>\n",
       "<table border=\"1\" class=\"dataframe\">\n",
       "  <thead>\n",
       "    <tr style=\"text-align: right;\">\n",
       "      <th></th>\n",
       "      <th>review</th>\n",
       "    </tr>\n",
       "  </thead>\n",
       "  <tbody>\n",
       "    <tr>\n",
       "      <th>count</th>\n",
       "      <td>7200.000000</td>\n",
       "    </tr>\n",
       "    <tr>\n",
       "      <th>mean</th>\n",
       "      <td>88.021389</td>\n",
       "    </tr>\n",
       "    <tr>\n",
       "      <th>std</th>\n",
       "      <td>267.741285</td>\n",
       "    </tr>\n",
       "    <tr>\n",
       "      <th>min</th>\n",
       "      <td>-1.000000</td>\n",
       "    </tr>\n",
       "    <tr>\n",
       "      <th>25%</th>\n",
       "      <td>2.000000</td>\n",
       "    </tr>\n",
       "    <tr>\n",
       "      <th>50%</th>\n",
       "      <td>10.000000</td>\n",
       "    </tr>\n",
       "    <tr>\n",
       "      <th>75%</th>\n",
       "      <td>54.000000</td>\n",
       "    </tr>\n",
       "    <tr>\n",
       "      <th>max</th>\n",
       "      <td>5380.000000</td>\n",
       "    </tr>\n",
       "  </tbody>\n",
       "</table>\n",
       "</div>"
      ],
      "text/plain": [
       "            review\n",
       "count  7200.000000\n",
       "mean     88.021389\n",
       "std     267.741285\n",
       "min      -1.000000\n",
       "25%       2.000000\n",
       "50%      10.000000\n",
       "75%      54.000000\n",
       "max    5380.000000"
      ]
     },
     "execution_count": 14,
     "metadata": {},
     "output_type": "execute_result"
    }
   ],
   "source": [
    "df_chewy.describe()"
   ]
  },
  {
   "cell_type": "code",
   "execution_count": 15,
   "metadata": {},
   "outputs": [
    {
     "data": {
      "text/plain": [
       "brand        0\n",
       "name         0\n",
       "price        0\n",
       "review       0\n",
       "message     66\n",
       "category     0\n",
       "channel      0\n",
       "dtype: int64"
      ]
     },
     "execution_count": 15,
     "metadata": {},
     "output_type": "execute_result"
    }
   ],
   "source": [
    "df_chewy.isnull().sum()"
   ]
  },
  {
   "cell_type": "code",
   "execution_count": 16,
   "metadata": {},
   "outputs": [],
   "source": [
    "# handle amazon data\n",
    "df_amazon = pd.concat([df_amazon_toys, df_amazon_treats], ignore_index=True, sort=False)"
   ]
  },
  {
   "cell_type": "code",
   "execution_count": 17,
   "metadata": {},
   "outputs": [],
   "source": [
    "df_amazon['channel'] = 'amazon'"
   ]
  },
  {
   "cell_type": "code",
   "execution_count": 18,
   "metadata": {},
   "outputs": [
    {
     "data": {
      "text/plain": [
       "(6393, 6)"
      ]
     },
     "execution_count": 18,
     "metadata": {},
     "output_type": "execute_result"
    }
   ],
   "source": [
    "df_amazon.shape"
   ]
  },
  {
   "cell_type": "code",
   "execution_count": 19,
   "metadata": {},
   "outputs": [
    {
     "data": {
      "text/plain": [
       "Index(['name', 'deal_info', 'price', 'arr_info', 'category', 'channel'], dtype='object')"
      ]
     },
     "execution_count": 19,
     "metadata": {},
     "output_type": "execute_result"
    }
   ],
   "source": [
    "df_amazon.columns"
   ]
  },
  {
   "cell_type": "code",
   "execution_count": 20,
   "metadata": {},
   "outputs": [],
   "source": [
    "# drop arr_info (dates)\n",
    "df_amazon = df_amazon.drop(['arr_info'],axis=1)"
   ]
  },
  {
   "cell_type": "code",
   "execution_count": 21,
   "metadata": {},
   "outputs": [],
   "source": [
    "#rename the columns, add missing info\n",
    "#Index(['brand', 'name', 'price', 'review', 'message', 'category', 'channel'], dtype='object')\n",
    "df_amazon['brand'] = 'N/A'\n",
    "df_amazon['review'] = 'N/A'\n",
    "df_amazon = df_amazon.rename(columns={'deal_info': 'message'})\n"
   ]
  },
  {
   "cell_type": "code",
   "execution_count": 22,
   "metadata": {},
   "outputs": [],
   "source": [
    "df_amazon = df_amazon.reindex(['brand','name','price','review','message','category','channel'], axis=1)\n"
   ]
  },
  {
   "cell_type": "code",
   "execution_count": 23,
   "metadata": {},
   "outputs": [
    {
     "data": {
      "text/html": [
       "<div>\n",
       "<style scoped>\n",
       "    .dataframe tbody tr th:only-of-type {\n",
       "        vertical-align: middle;\n",
       "    }\n",
       "\n",
       "    .dataframe tbody tr th {\n",
       "        vertical-align: top;\n",
       "    }\n",
       "\n",
       "    .dataframe thead th {\n",
       "        text-align: right;\n",
       "    }\n",
       "</style>\n",
       "<table border=\"1\" class=\"dataframe\">\n",
       "  <thead>\n",
       "    <tr style=\"text-align: right;\">\n",
       "      <th></th>\n",
       "      <th>brand</th>\n",
       "      <th>name</th>\n",
       "      <th>price</th>\n",
       "      <th>review</th>\n",
       "      <th>message</th>\n",
       "      <th>category</th>\n",
       "      <th>channel</th>\n",
       "    </tr>\n",
       "  </thead>\n",
       "  <tbody>\n",
       "    <tr>\n",
       "      <th>0</th>\n",
       "      <td>N/A</td>\n",
       "      <td>Squeaky Dog Chew Toys Plush Dog Toy for Large ...</td>\n",
       "      <td>$14.99</td>\n",
       "      <td>N/A</td>\n",
       "      <td>no discount</td>\n",
       "      <td>toys</td>\n",
       "      <td>amazon</td>\n",
       "    </tr>\n",
       "    <tr>\n",
       "      <th>1</th>\n",
       "      <td>N/A</td>\n",
       "      <td>Sedioso Dog Toys, Dog Plush Toy for Large Bree...</td>\n",
       "      <td>$12.99</td>\n",
       "      <td>N/A</td>\n",
       "      <td>no discount</td>\n",
       "      <td>toys</td>\n",
       "      <td>amazon</td>\n",
       "    </tr>\n",
       "    <tr>\n",
       "      <th>2</th>\n",
       "      <td>N/A</td>\n",
       "      <td>Bullibone Nylon Dog Chew Toy Nylon Bone - Impr...</td>\n",
       "      <td>$13.99</td>\n",
       "      <td>N/A</td>\n",
       "      <td>no discount</td>\n",
       "      <td>toys</td>\n",
       "      <td>amazon</td>\n",
       "    </tr>\n",
       "    <tr>\n",
       "      <th>3</th>\n",
       "      <td>N/A</td>\n",
       "      <td>DOOG - The Sticks \"Woody\" Fetch Toys Safer Tha...</td>\n",
       "      <td>$9.99</td>\n",
       "      <td>N/A</td>\n",
       "      <td>Save 15%</td>\n",
       "      <td>toys</td>\n",
       "      <td>amazon</td>\n",
       "    </tr>\n",
       "    <tr>\n",
       "      <th>4</th>\n",
       "      <td>N/A</td>\n",
       "      <td>WhiteTail Naturals - Water Buffalo Horns for D...</td>\n",
       "      <td>$19.95</td>\n",
       "      <td>N/A</td>\n",
       "      <td>no discount</td>\n",
       "      <td>toys</td>\n",
       "      <td>amazon</td>\n",
       "    </tr>\n",
       "    <tr>\n",
       "      <th>...</th>\n",
       "      <td>...</td>\n",
       "      <td>...</td>\n",
       "      <td>...</td>\n",
       "      <td>...</td>\n",
       "      <td>...</td>\n",
       "      <td>...</td>\n",
       "      <td>...</td>\n",
       "    </tr>\n",
       "    <tr>\n",
       "      <th>6388</th>\n",
       "      <td>N/A</td>\n",
       "      <td>Dreambone Twist Sticks, Rawhide-Free Chews For...</td>\n",
       "      <td>$10.14</td>\n",
       "      <td>N/A</td>\n",
       "      <td>no discount</td>\n",
       "      <td>treats</td>\n",
       "      <td>amazon</td>\n",
       "    </tr>\n",
       "    <tr>\n",
       "      <th>6389</th>\n",
       "      <td>N/A</td>\n",
       "      <td>Amazon Brand – Wag Training Treats for Dogs (C...</td>\n",
       "      <td>$7.49</td>\n",
       "      <td>N/A</td>\n",
       "      <td>no discount</td>\n",
       "      <td>treats</td>\n",
       "      <td>amazon</td>\n",
       "    </tr>\n",
       "    <tr>\n",
       "      <th>6390</th>\n",
       "      <td>N/A</td>\n",
       "      <td>Pet 'n Shape Chik 'n Hide Twists – Chicken Wra...</td>\n",
       "      <td>$18.99</td>\n",
       "      <td>N/A</td>\n",
       "      <td>no discount</td>\n",
       "      <td>treats</td>\n",
       "      <td>amazon</td>\n",
       "    </tr>\n",
       "    <tr>\n",
       "      <th>6391</th>\n",
       "      <td>N/A</td>\n",
       "      <td>Purina Prime Bones Dog Bone, Made in USA Facil...</td>\n",
       "      <td>$15.18</td>\n",
       "      <td>N/A</td>\n",
       "      <td>no discount</td>\n",
       "      <td>treats</td>\n",
       "      <td>amazon</td>\n",
       "    </tr>\n",
       "    <tr>\n",
       "      <th>6392</th>\n",
       "      <td>N/A</td>\n",
       "      <td>Milk-Bone MaroSnacks Dog Treats, Bacon, 40 Oun...</td>\n",
       "      <td>$22.98</td>\n",
       "      <td>N/A</td>\n",
       "      <td>no discount</td>\n",
       "      <td>treats</td>\n",
       "      <td>amazon</td>\n",
       "    </tr>\n",
       "  </tbody>\n",
       "</table>\n",
       "<p>6393 rows × 7 columns</p>\n",
       "</div>"
      ],
      "text/plain": [
       "     brand                                               name    price review  \\\n",
       "0      N/A  Squeaky Dog Chew Toys Plush Dog Toy for Large ...  $14.99     N/A   \n",
       "1      N/A  Sedioso Dog Toys, Dog Plush Toy for Large Bree...  $12.99     N/A   \n",
       "2      N/A  Bullibone Nylon Dog Chew Toy Nylon Bone - Impr...  $13.99     N/A   \n",
       "3      N/A  DOOG - The Sticks \"Woody\" Fetch Toys Safer Tha...   $9.99     N/A   \n",
       "4      N/A  WhiteTail Naturals - Water Buffalo Horns for D...  $19.95     N/A   \n",
       "...    ...                                                ...      ...    ...   \n",
       "6388   N/A  Dreambone Twist Sticks, Rawhide-Free Chews For...  $10.14     N/A   \n",
       "6389   N/A  Amazon Brand – Wag Training Treats for Dogs (C...   $7.49     N/A   \n",
       "6390   N/A  Pet 'n Shape Chik 'n Hide Twists – Chicken Wra...  $18.99     N/A   \n",
       "6391   N/A  Purina Prime Bones Dog Bone, Made in USA Facil...  $15.18     N/A   \n",
       "6392   N/A  Milk-Bone MaroSnacks Dog Treats, Bacon, 40 Oun...  $22.98     N/A   \n",
       "\n",
       "          message category channel  \n",
       "0     no discount     toys  amazon  \n",
       "1     no discount     toys  amazon  \n",
       "2     no discount     toys  amazon  \n",
       "3        Save 15%     toys  amazon  \n",
       "4     no discount     toys  amazon  \n",
       "...           ...      ...     ...  \n",
       "6388  no discount   treats  amazon  \n",
       "6389  no discount   treats  amazon  \n",
       "6390  no discount   treats  amazon  \n",
       "6391  no discount   treats  amazon  \n",
       "6392  no discount   treats  amazon  \n",
       "\n",
       "[6393 rows x 7 columns]"
      ]
     },
     "execution_count": 23,
     "metadata": {},
     "output_type": "execute_result"
    }
   ],
   "source": [
    "df_amazon"
   ]
  },
  {
   "cell_type": "code",
   "execution_count": 24,
   "metadata": {},
   "outputs": [
    {
     "data": {
      "text/plain": [
       "brand       0\n",
       "name        0\n",
       "price       0\n",
       "review      0\n",
       "message     0\n",
       "category    0\n",
       "channel     0\n",
       "dtype: int64"
      ]
     },
     "execution_count": 24,
     "metadata": {},
     "output_type": "execute_result"
    }
   ],
   "source": [
    "df_amazon.isnull().sum()"
   ]
  },
  {
   "cell_type": "code",
   "execution_count": 25,
   "metadata": {},
   "outputs": [
    {
     "data": {
      "text/plain": [
       "<bound method NDFrame.describe of      brand                                               name    price review  \\\n",
       "0      N/A  Squeaky Dog Chew Toys Plush Dog Toy for Large ...  $14.99     N/A   \n",
       "1      N/A  Sedioso Dog Toys, Dog Plush Toy for Large Bree...  $12.99     N/A   \n",
       "2      N/A  Bullibone Nylon Dog Chew Toy Nylon Bone - Impr...  $13.99     N/A   \n",
       "3      N/A  DOOG - The Sticks \"Woody\" Fetch Toys Safer Tha...   $9.99     N/A   \n",
       "4      N/A  WhiteTail Naturals - Water Buffalo Horns for D...  $19.95     N/A   \n",
       "...    ...                                                ...      ...    ...   \n",
       "6388   N/A  Dreambone Twist Sticks, Rawhide-Free Chews For...  $10.14     N/A   \n",
       "6389   N/A  Amazon Brand – Wag Training Treats for Dogs (C...   $7.49     N/A   \n",
       "6390   N/A  Pet 'n Shape Chik 'n Hide Twists – Chicken Wra...  $18.99     N/A   \n",
       "6391   N/A  Purina Prime Bones Dog Bone, Made in USA Facil...  $15.18     N/A   \n",
       "6392   N/A  Milk-Bone MaroSnacks Dog Treats, Bacon, 40 Oun...  $22.98     N/A   \n",
       "\n",
       "          message category channel  \n",
       "0     no discount     toys  amazon  \n",
       "1     no discount     toys  amazon  \n",
       "2     no discount     toys  amazon  \n",
       "3        Save 15%     toys  amazon  \n",
       "4     no discount     toys  amazon  \n",
       "...           ...      ...     ...  \n",
       "6388  no discount   treats  amazon  \n",
       "6389  no discount   treats  amazon  \n",
       "6390  no discount   treats  amazon  \n",
       "6391  no discount   treats  amazon  \n",
       "6392  no discount   treats  amazon  \n",
       "\n",
       "[6393 rows x 7 columns]>"
      ]
     },
     "execution_count": 25,
     "metadata": {},
     "output_type": "execute_result"
    }
   ],
   "source": [
    "df_amazon.describe"
   ]
  },
  {
   "cell_type": "code",
   "execution_count": 26,
   "metadata": {},
   "outputs": [],
   "source": [
    "df_combine = pd.concat([df_amazon, df_chewy], ignore_index=True, sort=False)"
   ]
  },
  {
   "cell_type": "code",
   "execution_count": 27,
   "metadata": {},
   "outputs": [
    {
     "data": {
      "text/html": [
       "<div>\n",
       "<style scoped>\n",
       "    .dataframe tbody tr th:only-of-type {\n",
       "        vertical-align: middle;\n",
       "    }\n",
       "\n",
       "    .dataframe tbody tr th {\n",
       "        vertical-align: top;\n",
       "    }\n",
       "\n",
       "    .dataframe thead th {\n",
       "        text-align: right;\n",
       "    }\n",
       "</style>\n",
       "<table border=\"1\" class=\"dataframe\">\n",
       "  <thead>\n",
       "    <tr style=\"text-align: right;\">\n",
       "      <th></th>\n",
       "      <th>brand</th>\n",
       "      <th>name</th>\n",
       "      <th>price</th>\n",
       "      <th>review</th>\n",
       "      <th>message</th>\n",
       "      <th>category</th>\n",
       "      <th>channel</th>\n",
       "    </tr>\n",
       "  </thead>\n",
       "  <tbody>\n",
       "    <tr>\n",
       "      <th>0</th>\n",
       "      <td>N/A</td>\n",
       "      <td>Squeaky Dog Chew Toys Plush Dog Toy for Large ...</td>\n",
       "      <td>$14.99</td>\n",
       "      <td>N/A</td>\n",
       "      <td>no discount</td>\n",
       "      <td>toys</td>\n",
       "      <td>amazon</td>\n",
       "    </tr>\n",
       "    <tr>\n",
       "      <th>1</th>\n",
       "      <td>N/A</td>\n",
       "      <td>Sedioso Dog Toys, Dog Plush Toy for Large Bree...</td>\n",
       "      <td>$12.99</td>\n",
       "      <td>N/A</td>\n",
       "      <td>no discount</td>\n",
       "      <td>toys</td>\n",
       "      <td>amazon</td>\n",
       "    </tr>\n",
       "    <tr>\n",
       "      <th>2</th>\n",
       "      <td>N/A</td>\n",
       "      <td>Bullibone Nylon Dog Chew Toy Nylon Bone - Impr...</td>\n",
       "      <td>$13.99</td>\n",
       "      <td>N/A</td>\n",
       "      <td>no discount</td>\n",
       "      <td>toys</td>\n",
       "      <td>amazon</td>\n",
       "    </tr>\n",
       "    <tr>\n",
       "      <th>3</th>\n",
       "      <td>N/A</td>\n",
       "      <td>DOOG - The Sticks \"Woody\" Fetch Toys Safer Tha...</td>\n",
       "      <td>$9.99</td>\n",
       "      <td>N/A</td>\n",
       "      <td>Save 15%</td>\n",
       "      <td>toys</td>\n",
       "      <td>amazon</td>\n",
       "    </tr>\n",
       "    <tr>\n",
       "      <th>4</th>\n",
       "      <td>N/A</td>\n",
       "      <td>WhiteTail Naturals - Water Buffalo Horns for D...</td>\n",
       "      <td>$19.95</td>\n",
       "      <td>N/A</td>\n",
       "      <td>no discount</td>\n",
       "      <td>toys</td>\n",
       "      <td>amazon</td>\n",
       "    </tr>\n",
       "    <tr>\n",
       "      <th>...</th>\n",
       "      <td>...</td>\n",
       "      <td>...</td>\n",
       "      <td>...</td>\n",
       "      <td>...</td>\n",
       "      <td>...</td>\n",
       "      <td>...</td>\n",
       "      <td>...</td>\n",
       "    </tr>\n",
       "    <tr>\n",
       "      <th>13588</th>\n",
       "      <td>Joint MAX</td>\n",
       "      <td>Joint MAX  Joint Treats for Dogs, 60 count</td>\n",
       "      <td>$15.99</td>\n",
       "      <td>25</td>\n",
       "      <td>Buy Select Dog Food, Get 20% Off Select Dog Tr...</td>\n",
       "      <td>treats</td>\n",
       "      <td>chewy</td>\n",
       "    </tr>\n",
       "    <tr>\n",
       "      <th>13589</th>\n",
       "      <td>HOTSPOT PETS</td>\n",
       "      <td>HOTSPOT PETS  Cow Hooves Dog Chew Treats, 12 c...</td>\n",
       "      <td>$14.99</td>\n",
       "      <td>17</td>\n",
       "      <td>More Choices Available</td>\n",
       "      <td>treats</td>\n",
       "      <td>chewy</td>\n",
       "    </tr>\n",
       "    <tr>\n",
       "      <th>13590</th>\n",
       "      <td>Bones &amp; Chews</td>\n",
       "      <td>Bones &amp; Chews  Cow Hooves, 10 count</td>\n",
       "      <td>$13.74</td>\n",
       "      <td>149</td>\n",
       "      <td>Buy Supplements with Select Treats/Toys and Sa...</td>\n",
       "      <td>treats</td>\n",
       "      <td>chewy</td>\n",
       "    </tr>\n",
       "    <tr>\n",
       "      <th>13591</th>\n",
       "      <td>Tibetan Dog Chew</td>\n",
       "      <td>Tibetan Dog Chew  Small Breed Grain-Free Stick...</td>\n",
       "      <td>$18.51</td>\n",
       "      <td>-1</td>\n",
       "      <td>More Choices Available</td>\n",
       "      <td>treats</td>\n",
       "      <td>chewy</td>\n",
       "    </tr>\n",
       "    <tr>\n",
       "      <th>13592</th>\n",
       "      <td>Barkworthies</td>\n",
       "      <td>Barkworthies  Odor-Free 12\" Monster Bully Stic...</td>\n",
       "      <td>$20.29</td>\n",
       "      <td>10</td>\n",
       "      <td>FREE 1-3 day shipping over $49</td>\n",
       "      <td>treats</td>\n",
       "      <td>chewy</td>\n",
       "    </tr>\n",
       "  </tbody>\n",
       "</table>\n",
       "<p>13593 rows × 7 columns</p>\n",
       "</div>"
      ],
      "text/plain": [
       "                  brand                                               name  \\\n",
       "0                   N/A  Squeaky Dog Chew Toys Plush Dog Toy for Large ...   \n",
       "1                   N/A  Sedioso Dog Toys, Dog Plush Toy for Large Bree...   \n",
       "2                   N/A  Bullibone Nylon Dog Chew Toy Nylon Bone - Impr...   \n",
       "3                   N/A  DOOG - The Sticks \"Woody\" Fetch Toys Safer Tha...   \n",
       "4                   N/A  WhiteTail Naturals - Water Buffalo Horns for D...   \n",
       "...                 ...                                                ...   \n",
       "13588         Joint MAX         Joint MAX  Joint Treats for Dogs, 60 count   \n",
       "13589      HOTSPOT PETS  HOTSPOT PETS  Cow Hooves Dog Chew Treats, 12 c...   \n",
       "13590     Bones & Chews                Bones & Chews  Cow Hooves, 10 count   \n",
       "13591  Tibetan Dog Chew  Tibetan Dog Chew  Small Breed Grain-Free Stick...   \n",
       "13592      Barkworthies  Barkworthies  Odor-Free 12\" Monster Bully Stic...   \n",
       "\n",
       "         price review                                            message  \\\n",
       "0      $14.99     N/A                                        no discount   \n",
       "1      $12.99     N/A                                        no discount   \n",
       "2      $13.99     N/A                                        no discount   \n",
       "3       $9.99     N/A                                           Save 15%   \n",
       "4      $19.95     N/A                                        no discount   \n",
       "...        ...    ...                                                ...   \n",
       "13588   $15.99     25  Buy Select Dog Food, Get 20% Off Select Dog Tr...   \n",
       "13589   $14.99     17                             More Choices Available   \n",
       "13590   $13.74    149  Buy Supplements with Select Treats/Toys and Sa...   \n",
       "13591   $18.51     -1                             More Choices Available   \n",
       "13592   $20.29     10                     FREE 1-3 day shipping over $49   \n",
       "\n",
       "      category channel  \n",
       "0         toys  amazon  \n",
       "1         toys  amazon  \n",
       "2         toys  amazon  \n",
       "3         toys  amazon  \n",
       "4         toys  amazon  \n",
       "...        ...     ...  \n",
       "13588   treats   chewy  \n",
       "13589   treats   chewy  \n",
       "13590   treats   chewy  \n",
       "13591   treats   chewy  \n",
       "13592   treats   chewy  \n",
       "\n",
       "[13593 rows x 7 columns]"
      ]
     },
     "execution_count": 27,
     "metadata": {},
     "output_type": "execute_result"
    }
   ],
   "source": [
    "df_combine"
   ]
  },
  {
   "cell_type": "code",
   "execution_count": 28,
   "metadata": {},
   "outputs": [
    {
     "data": {
      "text/html": [
       "<div>\n",
       "<style scoped>\n",
       "    .dataframe tbody tr th:only-of-type {\n",
       "        vertical-align: middle;\n",
       "    }\n",
       "\n",
       "    .dataframe tbody tr th {\n",
       "        vertical-align: top;\n",
       "    }\n",
       "\n",
       "    .dataframe thead th {\n",
       "        text-align: right;\n",
       "    }\n",
       "</style>\n",
       "<table border=\"1\" class=\"dataframe\">\n",
       "  <thead>\n",
       "    <tr style=\"text-align: right;\">\n",
       "      <th></th>\n",
       "      <th>brand</th>\n",
       "      <th>name</th>\n",
       "      <th>price</th>\n",
       "      <th>review</th>\n",
       "      <th>message</th>\n",
       "      <th>category</th>\n",
       "      <th>channel</th>\n",
       "    </tr>\n",
       "  </thead>\n",
       "  <tbody>\n",
       "    <tr>\n",
       "      <th>0</th>\n",
       "      <td>N/A</td>\n",
       "      <td>Squeaky Dog Chew Toys Plush Dog Toy for Large ...</td>\n",
       "      <td>$14.99</td>\n",
       "      <td>N/A</td>\n",
       "      <td>no discount</td>\n",
       "      <td>toys</td>\n",
       "      <td>amazon</td>\n",
       "    </tr>\n",
       "    <tr>\n",
       "      <th>1</th>\n",
       "      <td>N/A</td>\n",
       "      <td>Sedioso Dog Toys, Dog Plush Toy for Large Bree...</td>\n",
       "      <td>$12.99</td>\n",
       "      <td>N/A</td>\n",
       "      <td>no discount</td>\n",
       "      <td>toys</td>\n",
       "      <td>amazon</td>\n",
       "    </tr>\n",
       "    <tr>\n",
       "      <th>2</th>\n",
       "      <td>N/A</td>\n",
       "      <td>Bullibone Nylon Dog Chew Toy Nylon Bone - Impr...</td>\n",
       "      <td>$13.99</td>\n",
       "      <td>N/A</td>\n",
       "      <td>no discount</td>\n",
       "      <td>toys</td>\n",
       "      <td>amazon</td>\n",
       "    </tr>\n",
       "    <tr>\n",
       "      <th>3</th>\n",
       "      <td>N/A</td>\n",
       "      <td>DOOG - The Sticks \"Woody\" Fetch Toys Safer Tha...</td>\n",
       "      <td>$9.99</td>\n",
       "      <td>N/A</td>\n",
       "      <td>Save 15%</td>\n",
       "      <td>toys</td>\n",
       "      <td>amazon</td>\n",
       "    </tr>\n",
       "    <tr>\n",
       "      <th>4</th>\n",
       "      <td>N/A</td>\n",
       "      <td>WhiteTail Naturals - Water Buffalo Horns for D...</td>\n",
       "      <td>$19.95</td>\n",
       "      <td>N/A</td>\n",
       "      <td>no discount</td>\n",
       "      <td>toys</td>\n",
       "      <td>amazon</td>\n",
       "    </tr>\n",
       "    <tr>\n",
       "      <th>...</th>\n",
       "      <td>...</td>\n",
       "      <td>...</td>\n",
       "      <td>...</td>\n",
       "      <td>...</td>\n",
       "      <td>...</td>\n",
       "      <td>...</td>\n",
       "      <td>...</td>\n",
       "    </tr>\n",
       "    <tr>\n",
       "      <th>9988</th>\n",
       "      <td>Jolly Pets</td>\n",
       "      <td>Jolly Pets  Tug-n-Toss M-ini Dog Toy, Purple, ...</td>\n",
       "      <td>-1</td>\n",
       "      <td>19</td>\n",
       "      <td>More Choices Available</td>\n",
       "      <td>toys</td>\n",
       "      <td>chewy</td>\n",
       "    </tr>\n",
       "    <tr>\n",
       "      <th>9989</th>\n",
       "      <td>Buckle-Down</td>\n",
       "      <td>Buckle-Down  Batman Squeaky Tug Dog Toy</td>\n",
       "      <td>-1</td>\n",
       "      <td>4</td>\n",
       "      <td>NaN</td>\n",
       "      <td>toys</td>\n",
       "      <td>chewy</td>\n",
       "    </tr>\n",
       "    <tr>\n",
       "      <th>9990</th>\n",
       "      <td>Nerf Dog</td>\n",
       "      <td>Nerf Dog  Classic Squeak Ridged Football Dog T...</td>\n",
       "      <td>-1</td>\n",
       "      <td>46</td>\n",
       "      <td>NaN</td>\n",
       "      <td>toys</td>\n",
       "      <td>chewy</td>\n",
       "    </tr>\n",
       "    <tr>\n",
       "      <th>9991</th>\n",
       "      <td>Chuckit!</td>\n",
       "      <td>Chuckit!  Strato Ball Dog Toy, Medium, 2-pack</td>\n",
       "      <td>-1</td>\n",
       "      <td>37</td>\n",
       "      <td>More Choices Available</td>\n",
       "      <td>toys</td>\n",
       "      <td>chewy</td>\n",
       "    </tr>\n",
       "    <tr>\n",
       "      <th>9992</th>\n",
       "      <td>Outward Hound</td>\n",
       "      <td>Outward Hound  Dog Worker Dog Toy</td>\n",
       "      <td>-1</td>\n",
       "      <td>10</td>\n",
       "      <td>NaN</td>\n",
       "      <td>toys</td>\n",
       "      <td>chewy</td>\n",
       "    </tr>\n",
       "  </tbody>\n",
       "</table>\n",
       "<p>6693 rows × 7 columns</p>\n",
       "</div>"
      ],
      "text/plain": [
       "              brand                                               name  \\\n",
       "0               N/A  Squeaky Dog Chew Toys Plush Dog Toy for Large ...   \n",
       "1               N/A  Sedioso Dog Toys, Dog Plush Toy for Large Bree...   \n",
       "2               N/A  Bullibone Nylon Dog Chew Toy Nylon Bone - Impr...   \n",
       "3               N/A  DOOG - The Sticks \"Woody\" Fetch Toys Safer Tha...   \n",
       "4               N/A  WhiteTail Naturals - Water Buffalo Horns for D...   \n",
       "...             ...                                                ...   \n",
       "9988     Jolly Pets  Jolly Pets  Tug-n-Toss M-ini Dog Toy, Purple, ...   \n",
       "9989    Buckle-Down            Buckle-Down  Batman Squeaky Tug Dog Toy   \n",
       "9990       Nerf Dog  Nerf Dog  Classic Squeak Ridged Football Dog T...   \n",
       "9991       Chuckit!      Chuckit!  Strato Ball Dog Toy, Medium, 2-pack   \n",
       "9992  Outward Hound                  Outward Hound  Dog Worker Dog Toy   \n",
       "\n",
       "        price review                 message category channel  \n",
       "0     $14.99     N/A             no discount     toys  amazon  \n",
       "1     $12.99     N/A             no discount     toys  amazon  \n",
       "2     $13.99     N/A             no discount     toys  amazon  \n",
       "3      $9.99     N/A                Save 15%     toys  amazon  \n",
       "4     $19.95     N/A             no discount     toys  amazon  \n",
       "...       ...    ...                     ...      ...     ...  \n",
       "9988       -1     19  More Choices Available     toys   chewy  \n",
       "9989       -1      4                     NaN     toys   chewy  \n",
       "9990       -1     46                     NaN     toys   chewy  \n",
       "9991       -1     37  More Choices Available     toys   chewy  \n",
       "9992       -1     10                     NaN     toys   chewy  \n",
       "\n",
       "[6693 rows x 7 columns]"
      ]
     },
     "execution_count": 28,
     "metadata": {},
     "output_type": "execute_result"
    }
   ],
   "source": [
    "df_combine[df_combine['category'] == 'toys']"
   ]
  },
  {
   "cell_type": "code",
   "execution_count": 29,
   "metadata": {},
   "outputs": [],
   "source": [
    "df_combine = df_combine.rename(columns={'message': 'discount'})"
   ]
  },
  {
   "cell_type": "code",
   "execution_count": 30,
   "metadata": {},
   "outputs": [
    {
     "data": {
      "text/plain": [
       "Index(['brand', 'name', 'price', 'review', 'discount', 'category', 'channel'], dtype='object')"
      ]
     },
     "execution_count": 30,
     "metadata": {},
     "output_type": "execute_result"
    }
   ],
   "source": [
    "df_combine.columns"
   ]
  },
  {
   "cell_type": "code",
   "execution_count": 31,
   "metadata": {},
   "outputs": [],
   "source": [
    "# add size (small, medium, large)\n",
    "def findSize(s):\n",
    "    s = s.lower()\n",
    "    size_list = []\n",
    "    if 'small' in s:\n",
    "        size_list.append('S')\n",
    "    if 'medium' in s:\n",
    "        size_list.append('M')\n",
    "    if 'large' in s:\n",
    "        size_list.append('L')\n",
    "    return size_list"
   ]
  },
  {
   "cell_type": "code",
   "execution_count": 32,
   "metadata": {},
   "outputs": [
    {
     "data": {
      "text/plain": [
       "'Squeaky Dog Chew Toys Plush Dog Toy for Large Medium Small Dog Stuffed Dog Toys for Aggressive Chewer Durable Chewing Toys for Puppy Breed… (Grey)'"
      ]
     },
     "execution_count": 32,
     "metadata": {},
     "output_type": "execute_result"
    }
   ],
   "source": [
    "df_combine.iloc[0,:]['name']"
   ]
  },
  {
   "cell_type": "code",
   "execution_count": 33,
   "metadata": {},
   "outputs": [
    {
     "data": {
      "text/plain": [
       "['S', 'M', 'L']"
      ]
     },
     "execution_count": 33,
     "metadata": {},
     "output_type": "execute_result"
    }
   ],
   "source": [
    "findSize(df_combine.iloc[0,:]['name'])"
   ]
  },
  {
   "cell_type": "code",
   "execution_count": 34,
   "metadata": {},
   "outputs": [],
   "source": [
    "df_combine['size'] = df_combine.apply(lambda x : findSize(x['name']),axis=1)"
   ]
  },
  {
   "cell_type": "code",
   "execution_count": 35,
   "metadata": {},
   "outputs": [
    {
     "data": {
      "text/html": [
       "<div>\n",
       "<style scoped>\n",
       "    .dataframe tbody tr th:only-of-type {\n",
       "        vertical-align: middle;\n",
       "    }\n",
       "\n",
       "    .dataframe tbody tr th {\n",
       "        vertical-align: top;\n",
       "    }\n",
       "\n",
       "    .dataframe thead th {\n",
       "        text-align: right;\n",
       "    }\n",
       "</style>\n",
       "<table border=\"1\" class=\"dataframe\">\n",
       "  <thead>\n",
       "    <tr style=\"text-align: right;\">\n",
       "      <th></th>\n",
       "      <th>brand</th>\n",
       "      <th>name</th>\n",
       "      <th>price</th>\n",
       "      <th>review</th>\n",
       "      <th>discount</th>\n",
       "      <th>category</th>\n",
       "      <th>channel</th>\n",
       "      <th>size</th>\n",
       "    </tr>\n",
       "  </thead>\n",
       "  <tbody>\n",
       "    <tr>\n",
       "      <th>0</th>\n",
       "      <td>N/A</td>\n",
       "      <td>Squeaky Dog Chew Toys Plush Dog Toy for Large ...</td>\n",
       "      <td>$14.99</td>\n",
       "      <td>N/A</td>\n",
       "      <td>no discount</td>\n",
       "      <td>toys</td>\n",
       "      <td>amazon</td>\n",
       "      <td>[S, M, L]</td>\n",
       "    </tr>\n",
       "    <tr>\n",
       "      <th>1</th>\n",
       "      <td>N/A</td>\n",
       "      <td>Sedioso Dog Toys, Dog Plush Toy for Large Bree...</td>\n",
       "      <td>$12.99</td>\n",
       "      <td>N/A</td>\n",
       "      <td>no discount</td>\n",
       "      <td>toys</td>\n",
       "      <td>amazon</td>\n",
       "      <td>[S, L]</td>\n",
       "    </tr>\n",
       "    <tr>\n",
       "      <th>2</th>\n",
       "      <td>N/A</td>\n",
       "      <td>Bullibone Nylon Dog Chew Toy Nylon Bone - Impr...</td>\n",
       "      <td>$13.99</td>\n",
       "      <td>N/A</td>\n",
       "      <td>no discount</td>\n",
       "      <td>toys</td>\n",
       "      <td>amazon</td>\n",
       "      <td>[L]</td>\n",
       "    </tr>\n",
       "    <tr>\n",
       "      <th>3</th>\n",
       "      <td>N/A</td>\n",
       "      <td>DOOG - The Sticks \"Woody\" Fetch Toys Safer Tha...</td>\n",
       "      <td>$9.99</td>\n",
       "      <td>N/A</td>\n",
       "      <td>Save 15%</td>\n",
       "      <td>toys</td>\n",
       "      <td>amazon</td>\n",
       "      <td>[]</td>\n",
       "    </tr>\n",
       "    <tr>\n",
       "      <th>4</th>\n",
       "      <td>N/A</td>\n",
       "      <td>WhiteTail Naturals - Water Buffalo Horns for D...</td>\n",
       "      <td>$19.95</td>\n",
       "      <td>N/A</td>\n",
       "      <td>no discount</td>\n",
       "      <td>toys</td>\n",
       "      <td>amazon</td>\n",
       "      <td>[L]</td>\n",
       "    </tr>\n",
       "    <tr>\n",
       "      <th>...</th>\n",
       "      <td>...</td>\n",
       "      <td>...</td>\n",
       "      <td>...</td>\n",
       "      <td>...</td>\n",
       "      <td>...</td>\n",
       "      <td>...</td>\n",
       "      <td>...</td>\n",
       "      <td>...</td>\n",
       "    </tr>\n",
       "    <tr>\n",
       "      <th>13588</th>\n",
       "      <td>Joint MAX</td>\n",
       "      <td>Joint MAX  Joint Treats for Dogs, 60 count</td>\n",
       "      <td>$15.99</td>\n",
       "      <td>25</td>\n",
       "      <td>Buy Select Dog Food, Get 20% Off Select Dog Tr...</td>\n",
       "      <td>treats</td>\n",
       "      <td>chewy</td>\n",
       "      <td>[]</td>\n",
       "    </tr>\n",
       "    <tr>\n",
       "      <th>13589</th>\n",
       "      <td>HOTSPOT PETS</td>\n",
       "      <td>HOTSPOT PETS  Cow Hooves Dog Chew Treats, 12 c...</td>\n",
       "      <td>$14.99</td>\n",
       "      <td>17</td>\n",
       "      <td>More Choices Available</td>\n",
       "      <td>treats</td>\n",
       "      <td>chewy</td>\n",
       "      <td>[]</td>\n",
       "    </tr>\n",
       "    <tr>\n",
       "      <th>13590</th>\n",
       "      <td>Bones &amp; Chews</td>\n",
       "      <td>Bones &amp; Chews  Cow Hooves, 10 count</td>\n",
       "      <td>$13.74</td>\n",
       "      <td>149</td>\n",
       "      <td>Buy Supplements with Select Treats/Toys and Sa...</td>\n",
       "      <td>treats</td>\n",
       "      <td>chewy</td>\n",
       "      <td>[]</td>\n",
       "    </tr>\n",
       "    <tr>\n",
       "      <th>13591</th>\n",
       "      <td>Tibetan Dog Chew</td>\n",
       "      <td>Tibetan Dog Chew  Small Breed Grain-Free Stick...</td>\n",
       "      <td>$18.51</td>\n",
       "      <td>-1</td>\n",
       "      <td>More Choices Available</td>\n",
       "      <td>treats</td>\n",
       "      <td>chewy</td>\n",
       "      <td>[S]</td>\n",
       "    </tr>\n",
       "    <tr>\n",
       "      <th>13592</th>\n",
       "      <td>Barkworthies</td>\n",
       "      <td>Barkworthies  Odor-Free 12\" Monster Bully Stic...</td>\n",
       "      <td>$20.29</td>\n",
       "      <td>10</td>\n",
       "      <td>FREE 1-3 day shipping over $49</td>\n",
       "      <td>treats</td>\n",
       "      <td>chewy</td>\n",
       "      <td>[]</td>\n",
       "    </tr>\n",
       "  </tbody>\n",
       "</table>\n",
       "<p>13593 rows × 8 columns</p>\n",
       "</div>"
      ],
      "text/plain": [
       "                  brand                                               name  \\\n",
       "0                   N/A  Squeaky Dog Chew Toys Plush Dog Toy for Large ...   \n",
       "1                   N/A  Sedioso Dog Toys, Dog Plush Toy for Large Bree...   \n",
       "2                   N/A  Bullibone Nylon Dog Chew Toy Nylon Bone - Impr...   \n",
       "3                   N/A  DOOG - The Sticks \"Woody\" Fetch Toys Safer Tha...   \n",
       "4                   N/A  WhiteTail Naturals - Water Buffalo Horns for D...   \n",
       "...                 ...                                                ...   \n",
       "13588         Joint MAX         Joint MAX  Joint Treats for Dogs, 60 count   \n",
       "13589      HOTSPOT PETS  HOTSPOT PETS  Cow Hooves Dog Chew Treats, 12 c...   \n",
       "13590     Bones & Chews                Bones & Chews  Cow Hooves, 10 count   \n",
       "13591  Tibetan Dog Chew  Tibetan Dog Chew  Small Breed Grain-Free Stick...   \n",
       "13592      Barkworthies  Barkworthies  Odor-Free 12\" Monster Bully Stic...   \n",
       "\n",
       "         price review                                           discount  \\\n",
       "0      $14.99     N/A                                        no discount   \n",
       "1      $12.99     N/A                                        no discount   \n",
       "2      $13.99     N/A                                        no discount   \n",
       "3       $9.99     N/A                                           Save 15%   \n",
       "4      $19.95     N/A                                        no discount   \n",
       "...        ...    ...                                                ...   \n",
       "13588   $15.99     25  Buy Select Dog Food, Get 20% Off Select Dog Tr...   \n",
       "13589   $14.99     17                             More Choices Available   \n",
       "13590   $13.74    149  Buy Supplements with Select Treats/Toys and Sa...   \n",
       "13591   $18.51     -1                             More Choices Available   \n",
       "13592   $20.29     10                     FREE 1-3 day shipping over $49   \n",
       "\n",
       "      category channel       size  \n",
       "0         toys  amazon  [S, M, L]  \n",
       "1         toys  amazon     [S, L]  \n",
       "2         toys  amazon        [L]  \n",
       "3         toys  amazon         []  \n",
       "4         toys  amazon        [L]  \n",
       "...        ...     ...        ...  \n",
       "13588   treats   chewy         []  \n",
       "13589   treats   chewy         []  \n",
       "13590   treats   chewy         []  \n",
       "13591   treats   chewy        [S]  \n",
       "13592   treats   chewy         []  \n",
       "\n",
       "[13593 rows x 8 columns]"
      ]
     },
     "execution_count": 35,
     "metadata": {},
     "output_type": "execute_result"
    }
   ],
   "source": [
    "# adds size to the dataframe\n",
    "df_combine"
   ]
  },
  {
   "cell_type": "code",
   "execution_count": 36,
   "metadata": {},
   "outputs": [],
   "source": [
    "df_combine.to_csv('clean/df_final.csv',index=False)"
   ]
  },
  {
   "cell_type": "code",
   "execution_count": null,
   "metadata": {},
   "outputs": [],
   "source": []
  }
 ],
 "metadata": {
  "kernelspec": {
   "display_name": "Python 3.10.6 64-bit",
   "language": "python",
   "name": "python3"
  },
  "language_info": {
   "codemirror_mode": {
    "name": "ipython",
    "version": 3
   },
   "file_extension": ".py",
   "mimetype": "text/x-python",
   "name": "python",
   "nbconvert_exporter": "python",
   "pygments_lexer": "ipython3",
   "version": "3.10.6"
  },
  "orig_nbformat": 4,
  "vscode": {
   "interpreter": {
    "hash": "b0fa6594d8f4cbf19f97940f81e996739fb7646882a419484c72d19e05852a7e"
   }
  }
 },
 "nbformat": 4,
 "nbformat_minor": 2
}
