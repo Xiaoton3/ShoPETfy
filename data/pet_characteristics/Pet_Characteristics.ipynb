{
 "cells": [
  {
   "cell_type": "markdown",
   "metadata": {},
   "source": [
    "## Import Modules"
   ]
  },
  {
   "cell_type": "code",
   "execution_count": null,
   "metadata": {},
   "outputs": [],
   "source": [
    "import requests\n",
    "import json\n",
    "\n",
    "# General Libraries\n",
    "import pandas as pd\n",
    "import numpy as np\n",
    "import matplotlib.pyplot as plt\n",
    "import seaborn as sns\n",
    "import plotly.express as px\n",
    "import plotly.graph_objs as go"
   ]
  },
  {
   "cell_type": "markdown",
   "metadata": {},
   "source": [
    "# All Breeds Endpoint"
   ]
  },
  {
   "cell_type": "code",
   "execution_count": 2,
   "metadata": {},
   "outputs": [],
   "source": [
    "# call Dog API - all breeds endpoint\n",
    "url = \"https://api.thedogapi.com/v1/breeds\"\n",
    "payload={}\n",
    "files={}\n",
    "headers = {\n",
    "  'Content-Type': 'application/json'\n",
    "}\n",
    "\n",
    "response = requests.request(\"GET\", url, headers=headers, data=payload, files=files)\n",
    "\n",
    "df = pd.read_json(response.text)\n",
    "\n",
    "# save data to json file\n",
    "# with open('pet_raw.json', 'w', encoding='utf-8') as f:\n",
    "#     json.dump(response.json(), f, ensure_ascii=False, indent=4)\n",
    "\n",
    "# save raw response to csv\n",
    "# df.to_csv('pet_raw.csv', index='False')"
   ]
  },
  {
   "cell_type": "markdown",
   "metadata": {},
   "source": [
    "## Clean Data"
   ]
  },
  {
   "cell_type": "code",
   "execution_count": 11,
   "metadata": {},
   "outputs": [
    {
     "data": {
      "text/plain": [
       "0     NaN\n",
       "1     NaN\n",
       "2     NaN\n",
       "3     NaN\n",
       "4     NaN\n",
       "       ..\n",
       "167   NaN\n",
       "168   NaN\n",
       "169   NaN\n",
       "170   NaN\n",
       "171   NaN\n",
       "Name: weight, Length: 172, dtype: float64"
      ]
     },
     "execution_count": 11,
     "metadata": {},
     "output_type": "execute_result"
    }
   ],
   "source": [
    "df.loc[:,'weight'].str.strip('{}\\'')"
   ]
  },
  {
   "cell_type": "code",
   "execution_count": 15,
   "metadata": {},
   "outputs": [
    {
     "data": {
      "text/html": [
       "<div>\n",
       "<style scoped>\n",
       "    .dataframe tbody tr th:only-of-type {\n",
       "        vertical-align: middle;\n",
       "    }\n",
       "\n",
       "    .dataframe tbody tr th {\n",
       "        vertical-align: top;\n",
       "    }\n",
       "\n",
       "    .dataframe thead th {\n",
       "        text-align: right;\n",
       "    }\n",
       "</style>\n",
       "<table border=\"1\" class=\"dataframe\">\n",
       "  <thead>\n",
       "    <tr style=\"text-align: right;\">\n",
       "      <th></th>\n",
       "      <th>height</th>\n",
       "      <th>id</th>\n",
       "      <th>name</th>\n",
       "      <th>bred_for</th>\n",
       "      <th>breed_group</th>\n",
       "      <th>life_span</th>\n",
       "      <th>temperament</th>\n",
       "      <th>origin</th>\n",
       "      <th>reference_image_id</th>\n",
       "      <th>image</th>\n",
       "      <th>country_code</th>\n",
       "      <th>description</th>\n",
       "      <th>history</th>\n",
       "      <th>imperial</th>\n",
       "      <th>metric</th>\n",
       "    </tr>\n",
       "  </thead>\n",
       "  <tbody>\n",
       "    <tr>\n",
       "      <th>0</th>\n",
       "      <td>{'imperial': '9 - 11.5', 'metric': '23 - 29'}</td>\n",
       "      <td>1</td>\n",
       "      <td>Affenpinscher</td>\n",
       "      <td>Small rodent hunting, lapdog</td>\n",
       "      <td>Toy</td>\n",
       "      <td>10 - 12 years</td>\n",
       "      <td>Stubborn, Curious, Playful, Adventurous, Activ...</td>\n",
       "      <td>Germany, France</td>\n",
       "      <td>BJa4kxc4X</td>\n",
       "      <td>{'id': 'BJa4kxc4X', 'width': 1600, 'height': 1...</td>\n",
       "      <td>NaN</td>\n",
       "      <td>NaN</td>\n",
       "      <td>NaN</td>\n",
       "      <td>6 - 13</td>\n",
       "      <td>3 - 6</td>\n",
       "    </tr>\n",
       "    <tr>\n",
       "      <th>1</th>\n",
       "      <td>{'imperial': '25 - 27', 'metric': '64 - 69'}</td>\n",
       "      <td>2</td>\n",
       "      <td>Afghan Hound</td>\n",
       "      <td>Coursing and hunting</td>\n",
       "      <td>Hound</td>\n",
       "      <td>10 - 13 years</td>\n",
       "      <td>Aloof, Clownish, Dignified, Independent, Happy</td>\n",
       "      <td>Afghanistan, Iran, Pakistan</td>\n",
       "      <td>hMyT4CDXR</td>\n",
       "      <td>{'id': 'hMyT4CDXR', 'width': 606, 'height': 38...</td>\n",
       "      <td>AG</td>\n",
       "      <td>NaN</td>\n",
       "      <td>NaN</td>\n",
       "      <td>50 - 60</td>\n",
       "      <td>23 - 27</td>\n",
       "    </tr>\n",
       "    <tr>\n",
       "      <th>2</th>\n",
       "      <td>{'imperial': '30', 'metric': '76'}</td>\n",
       "      <td>3</td>\n",
       "      <td>African Hunting Dog</td>\n",
       "      <td>A wild pack animal</td>\n",
       "      <td>NaN</td>\n",
       "      <td>11 years</td>\n",
       "      <td>Wild, Hardworking, Dutiful</td>\n",
       "      <td></td>\n",
       "      <td>rkiByec47</td>\n",
       "      <td>{'id': 'rkiByec47', 'width': 500, 'height': 33...</td>\n",
       "      <td>NaN</td>\n",
       "      <td>NaN</td>\n",
       "      <td>NaN</td>\n",
       "      <td>44 - 66</td>\n",
       "      <td>20 - 30</td>\n",
       "    </tr>\n",
       "    <tr>\n",
       "      <th>3</th>\n",
       "      <td>{'imperial': '21 - 23', 'metric': '53 - 58'}</td>\n",
       "      <td>4</td>\n",
       "      <td>Airedale Terrier</td>\n",
       "      <td>Badger, otter hunting</td>\n",
       "      <td>Terrier</td>\n",
       "      <td>10 - 13 years</td>\n",
       "      <td>Outgoing, Friendly, Alert, Confident, Intellig...</td>\n",
       "      <td>United Kingdom, England</td>\n",
       "      <td>1-7cgoZSh</td>\n",
       "      <td>{'id': '1-7cgoZSh', 'width': 645, 'height': 43...</td>\n",
       "      <td>NaN</td>\n",
       "      <td>NaN</td>\n",
       "      <td>NaN</td>\n",
       "      <td>40 - 65</td>\n",
       "      <td>18 - 29</td>\n",
       "    </tr>\n",
       "    <tr>\n",
       "      <th>4</th>\n",
       "      <td>{'imperial': '28 - 34', 'metric': '71 - 86'}</td>\n",
       "      <td>5</td>\n",
       "      <td>Akbash Dog</td>\n",
       "      <td>Sheep guarding</td>\n",
       "      <td>Working</td>\n",
       "      <td>10 - 12 years</td>\n",
       "      <td>Loyal, Independent, Intelligent, Brave</td>\n",
       "      <td></td>\n",
       "      <td>26pHT3Qk7</td>\n",
       "      <td>{'id': '26pHT3Qk7', 'width': 600, 'height': 47...</td>\n",
       "      <td>NaN</td>\n",
       "      <td>NaN</td>\n",
       "      <td>NaN</td>\n",
       "      <td>90 - 120</td>\n",
       "      <td>41 - 54</td>\n",
       "    </tr>\n",
       "    <tr>\n",
       "      <th>...</th>\n",
       "      <td>...</td>\n",
       "      <td>...</td>\n",
       "      <td>...</td>\n",
       "      <td>...</td>\n",
       "      <td>...</td>\n",
       "      <td>...</td>\n",
       "      <td>...</td>\n",
       "      <td>...</td>\n",
       "      <td>...</td>\n",
       "      <td>...</td>\n",
       "      <td>...</td>\n",
       "      <td>...</td>\n",
       "      <td>...</td>\n",
       "      <td>...</td>\n",
       "      <td>...</td>\n",
       "    </tr>\n",
       "    <tr>\n",
       "      <th>167</th>\n",
       "      <td>{'imperial': '13 - 16', 'metric': '33 - 41'}</td>\n",
       "      <td>259</td>\n",
       "      <td>Wire Fox Terrier</td>\n",
       "      <td>Vermin hunting, fox bolting</td>\n",
       "      <td>NaN</td>\n",
       "      <td>13 – 14 years</td>\n",
       "      <td>Fearless, Friendly, Bold, Keen, Alert, Quick</td>\n",
       "      <td>NaN</td>\n",
       "      <td>SJ6f2g9EQ</td>\n",
       "      <td>{'id': 'SJ6f2g9EQ', 'width': 1000, 'height': 7...</td>\n",
       "      <td>NaN</td>\n",
       "      <td>NaN</td>\n",
       "      <td>England</td>\n",
       "      <td>15 - 19</td>\n",
       "      <td>7 - 9</td>\n",
       "    </tr>\n",
       "    <tr>\n",
       "      <th>168</th>\n",
       "      <td>{'imperial': '20 - 24', 'metric': '51 - 61'}</td>\n",
       "      <td>260</td>\n",
       "      <td>Wirehaired Pointing Griffon</td>\n",
       "      <td>Gundog, \"swamp-tromping\", Flushing, pointing, ...</td>\n",
       "      <td>Sporting</td>\n",
       "      <td>12 - 14 years</td>\n",
       "      <td>Loyal, Gentle, Vigilant, Trainable, Proud</td>\n",
       "      <td>NaN</td>\n",
       "      <td>Bkam2l9Vm</td>\n",
       "      <td>{'id': 'Bkam2l9Vm', 'width': 2328, 'height': 1...</td>\n",
       "      <td>NaN</td>\n",
       "      <td>NaN</td>\n",
       "      <td>NaN</td>\n",
       "      <td>45 - 70</td>\n",
       "      <td>20 - 32</td>\n",
       "    </tr>\n",
       "    <tr>\n",
       "      <th>169</th>\n",
       "      <td>{'imperial': '21.5 - 25', 'metric': '55 - 64'}</td>\n",
       "      <td>261</td>\n",
       "      <td>Wirehaired Vizsla</td>\n",
       "      <td>NaN</td>\n",
       "      <td>Sporting</td>\n",
       "      <td>12 - 14 years</td>\n",
       "      <td>NaN</td>\n",
       "      <td>NaN</td>\n",
       "      <td>r1I4hl5Em</td>\n",
       "      <td>{'id': 'r1I4hl5Em', 'width': 1024, 'height': 7...</td>\n",
       "      <td>NaN</td>\n",
       "      <td>NaN</td>\n",
       "      <td>NaN</td>\n",
       "      <td>45 - 65</td>\n",
       "      <td>20 - 29</td>\n",
       "    </tr>\n",
       "    <tr>\n",
       "      <th>170</th>\n",
       "      <td>{'imperial': '10 - 23', 'metric': '25 - 58'}</td>\n",
       "      <td>262</td>\n",
       "      <td>Xoloitzcuintli</td>\n",
       "      <td>NaN</td>\n",
       "      <td>Non-Sporting</td>\n",
       "      <td>12 - 14 years</td>\n",
       "      <td>Cheerful, Alert, Companionable, Intelligent, P...</td>\n",
       "      <td>NaN</td>\n",
       "      <td>HkNS3gqEm</td>\n",
       "      <td>{'id': 'HkNS3gqEm', 'width': 1500, 'height': 1...</td>\n",
       "      <td>NaN</td>\n",
       "      <td>NaN</td>\n",
       "      <td>NaN</td>\n",
       "      <td>9 - 31</td>\n",
       "      <td>4 - 14</td>\n",
       "    </tr>\n",
       "    <tr>\n",
       "      <th>171</th>\n",
       "      <td>{'imperial': '8 - 9', 'metric': '20 - 23'}</td>\n",
       "      <td>264</td>\n",
       "      <td>Yorkshire Terrier</td>\n",
       "      <td>Small vermin hunting</td>\n",
       "      <td>Toy</td>\n",
       "      <td>12 - 16 years</td>\n",
       "      <td>Bold, Independent, Confident, Intelligent, Cou...</td>\n",
       "      <td>NaN</td>\n",
       "      <td>B12BnxcVQ</td>\n",
       "      <td>{'id': 'B12BnxcVQ', 'width': 1024, 'height': 6...</td>\n",
       "      <td>NaN</td>\n",
       "      <td>NaN</td>\n",
       "      <td>NaN</td>\n",
       "      <td>4 - 7</td>\n",
       "      <td>2 - 3</td>\n",
       "    </tr>\n",
       "  </tbody>\n",
       "</table>\n",
       "<p>172 rows × 15 columns</p>\n",
       "</div>"
      ],
      "text/plain": [
       "                                             height   id  \\\n",
       "0     {'imperial': '9 - 11.5', 'metric': '23 - 29'}    1   \n",
       "1      {'imperial': '25 - 27', 'metric': '64 - 69'}    2   \n",
       "2                {'imperial': '30', 'metric': '76'}    3   \n",
       "3      {'imperial': '21 - 23', 'metric': '53 - 58'}    4   \n",
       "4      {'imperial': '28 - 34', 'metric': '71 - 86'}    5   \n",
       "..                                              ...  ...   \n",
       "167    {'imperial': '13 - 16', 'metric': '33 - 41'}  259   \n",
       "168    {'imperial': '20 - 24', 'metric': '51 - 61'}  260   \n",
       "169  {'imperial': '21.5 - 25', 'metric': '55 - 64'}  261   \n",
       "170    {'imperial': '10 - 23', 'metric': '25 - 58'}  262   \n",
       "171      {'imperial': '8 - 9', 'metric': '20 - 23'}  264   \n",
       "\n",
       "                            name  \\\n",
       "0                  Affenpinscher   \n",
       "1                   Afghan Hound   \n",
       "2            African Hunting Dog   \n",
       "3               Airedale Terrier   \n",
       "4                     Akbash Dog   \n",
       "..                           ...   \n",
       "167             Wire Fox Terrier   \n",
       "168  Wirehaired Pointing Griffon   \n",
       "169            Wirehaired Vizsla   \n",
       "170               Xoloitzcuintli   \n",
       "171            Yorkshire Terrier   \n",
       "\n",
       "                                              bred_for   breed_group  \\\n",
       "0                         Small rodent hunting, lapdog           Toy   \n",
       "1                                 Coursing and hunting         Hound   \n",
       "2                                   A wild pack animal           NaN   \n",
       "3                                Badger, otter hunting       Terrier   \n",
       "4                                       Sheep guarding       Working   \n",
       "..                                                 ...           ...   \n",
       "167                        Vermin hunting, fox bolting           NaN   \n",
       "168  Gundog, \"swamp-tromping\", Flushing, pointing, ...      Sporting   \n",
       "169                                                NaN      Sporting   \n",
       "170                                                NaN  Non-Sporting   \n",
       "171                               Small vermin hunting           Toy   \n",
       "\n",
       "         life_span                                        temperament  \\\n",
       "0    10 - 12 years  Stubborn, Curious, Playful, Adventurous, Activ...   \n",
       "1    10 - 13 years     Aloof, Clownish, Dignified, Independent, Happy   \n",
       "2         11 years                         Wild, Hardworking, Dutiful   \n",
       "3    10 - 13 years  Outgoing, Friendly, Alert, Confident, Intellig...   \n",
       "4    10 - 12 years             Loyal, Independent, Intelligent, Brave   \n",
       "..             ...                                                ...   \n",
       "167  13 – 14 years       Fearless, Friendly, Bold, Keen, Alert, Quick   \n",
       "168  12 - 14 years          Loyal, Gentle, Vigilant, Trainable, Proud   \n",
       "169  12 - 14 years                                                NaN   \n",
       "170  12 - 14 years  Cheerful, Alert, Companionable, Intelligent, P...   \n",
       "171  12 - 16 years  Bold, Independent, Confident, Intelligent, Cou...   \n",
       "\n",
       "                          origin reference_image_id  \\\n",
       "0                Germany, France          BJa4kxc4X   \n",
       "1    Afghanistan, Iran, Pakistan          hMyT4CDXR   \n",
       "2                                         rkiByec47   \n",
       "3        United Kingdom, England          1-7cgoZSh   \n",
       "4                                         26pHT3Qk7   \n",
       "..                           ...                ...   \n",
       "167                          NaN          SJ6f2g9EQ   \n",
       "168                          NaN          Bkam2l9Vm   \n",
       "169                          NaN          r1I4hl5Em   \n",
       "170                          NaN          HkNS3gqEm   \n",
       "171                          NaN          B12BnxcVQ   \n",
       "\n",
       "                                                 image country_code  \\\n",
       "0    {'id': 'BJa4kxc4X', 'width': 1600, 'height': 1...          NaN   \n",
       "1    {'id': 'hMyT4CDXR', 'width': 606, 'height': 38...           AG   \n",
       "2    {'id': 'rkiByec47', 'width': 500, 'height': 33...          NaN   \n",
       "3    {'id': '1-7cgoZSh', 'width': 645, 'height': 43...          NaN   \n",
       "4    {'id': '26pHT3Qk7', 'width': 600, 'height': 47...          NaN   \n",
       "..                                                 ...          ...   \n",
       "167  {'id': 'SJ6f2g9EQ', 'width': 1000, 'height': 7...          NaN   \n",
       "168  {'id': 'Bkam2l9Vm', 'width': 2328, 'height': 1...          NaN   \n",
       "169  {'id': 'r1I4hl5Em', 'width': 1024, 'height': 7...          NaN   \n",
       "170  {'id': 'HkNS3gqEm', 'width': 1500, 'height': 1...          NaN   \n",
       "171  {'id': 'B12BnxcVQ', 'width': 1024, 'height': 6...          NaN   \n",
       "\n",
       "    description   history  imperial   metric  \n",
       "0           NaN       NaN    6 - 13    3 - 6  \n",
       "1           NaN       NaN   50 - 60  23 - 27  \n",
       "2           NaN       NaN   44 - 66  20 - 30  \n",
       "3           NaN       NaN   40 - 65  18 - 29  \n",
       "4           NaN       NaN  90 - 120  41 - 54  \n",
       "..          ...       ...       ...      ...  \n",
       "167         NaN   England   15 - 19    7 - 9  \n",
       "168         NaN       NaN   45 - 70  20 - 32  \n",
       "169         NaN       NaN   45 - 65  20 - 29  \n",
       "170         NaN       NaN    9 - 31   4 - 14  \n",
       "171         NaN       NaN     4 - 7    2 - 3  \n",
       "\n",
       "[172 rows x 15 columns]"
      ]
     },
     "execution_count": 15,
     "metadata": {},
     "output_type": "execute_result"
    }
   ],
   "source": [
    "pd.concat([df.drop('weight', axis=1), pd.DataFrame(df['weight'].tolist())], axis=1)"
   ]
  },
  {
   "cell_type": "markdown",
   "metadata": {},
   "source": [
    "## Individual Breed Endpoint"
   ]
  },
  {
   "cell_type": "code",
   "execution_count": 40,
   "metadata": {},
   "outputs": [],
   "source": [
    "import requests\n",
    "\n",
    "url = \"https://api.thedogapi.com/v1/breeds/20\"\n",
    "payload={}\n",
    "files={}\n",
    "headers = {}\n",
    "\n",
    "response = requests.request(\"GET\", url, headers=headers, data=payload, files=files)\n",
    "\n",
    "dog = pd.read_json(response.text)"
   ]
  },
  {
   "cell_type": "code",
   "execution_count": 41,
   "metadata": {},
   "outputs": [
    {
     "data": {
      "text/html": [
       "<div>\n",
       "<style scoped>\n",
       "    .dataframe tbody tr th:only-of-type {\n",
       "        vertical-align: middle;\n",
       "    }\n",
       "\n",
       "    .dataframe tbody tr th {\n",
       "        vertical-align: top;\n",
       "    }\n",
       "\n",
       "    .dataframe thead th {\n",
       "        text-align: right;\n",
       "    }\n",
       "</style>\n",
       "<table border=\"1\" class=\"dataframe\">\n",
       "  <thead>\n",
       "    <tr style=\"text-align: right;\">\n",
       "      <th></th>\n",
       "      <th>weight</th>\n",
       "      <th>height</th>\n",
       "      <th>id</th>\n",
       "      <th>name</th>\n",
       "      <th>breed_group</th>\n",
       "      <th>life_span</th>\n",
       "    </tr>\n",
       "  </thead>\n",
       "  <tbody>\n",
       "    <tr>\n",
       "      <th>imperial</th>\n",
       "      <td>25 - 70</td>\n",
       "      <td>varies</td>\n",
       "      <td>20</td>\n",
       "      <td>Aussiedoodle</td>\n",
       "      <td>Mixed</td>\n",
       "      <td>10 - 12 years</td>\n",
       "    </tr>\n",
       "    <tr>\n",
       "      <th>metric</th>\n",
       "      <td>11 - 32</td>\n",
       "      <td>varies</td>\n",
       "      <td>20</td>\n",
       "      <td>Aussiedoodle</td>\n",
       "      <td>Mixed</td>\n",
       "      <td>10 - 12 years</td>\n",
       "    </tr>\n",
       "  </tbody>\n",
       "</table>\n",
       "</div>"
      ],
      "text/plain": [
       "           weight  height  id          name breed_group      life_span\n",
       "imperial  25 - 70  varies  20  Aussiedoodle       Mixed  10 - 12 years\n",
       "metric    11 - 32  varies  20  Aussiedoodle       Mixed  10 - 12 years"
      ]
     },
     "execution_count": 41,
     "metadata": {},
     "output_type": "execute_result"
    }
   ],
   "source": [
    "dog"
   ]
  },
  {
   "cell_type": "markdown",
   "metadata": {},
   "source": [
    "# EDA"
   ]
  },
  {
   "cell_type": "code",
   "execution_count": 2,
   "metadata": {},
   "outputs": [
    {
     "data": {
      "text/html": [
       "<div>\n",
       "<style scoped>\n",
       "    .dataframe tbody tr th:only-of-type {\n",
       "        vertical-align: middle;\n",
       "    }\n",
       "\n",
       "    .dataframe tbody tr th {\n",
       "        vertical-align: top;\n",
       "    }\n",
       "\n",
       "    .dataframe thead th {\n",
       "        text-align: right;\n",
       "    }\n",
       "</style>\n",
       "<table border=\"1\" class=\"dataframe\">\n",
       "  <thead>\n",
       "    <tr style=\"text-align: right;\">\n",
       "      <th></th>\n",
       "      <th>imperial_weight_min</th>\n",
       "      <th>imperial_weight_max</th>\n",
       "      <th>metric_weight_min</th>\n",
       "      <th>metric_weight_max</th>\n",
       "      <th>imperial_height_min</th>\n",
       "      <th>imperial_height_max</th>\n",
       "      <th>metric_height_min</th>\n",
       "      <th>metric_height_max</th>\n",
       "      <th>name</th>\n",
       "      <th>bred_for</th>\n",
       "      <th>breed_group</th>\n",
       "      <th>min_life_span</th>\n",
       "      <th>max_life_span</th>\n",
       "      <th>temperament</th>\n",
       "      <th>origin</th>\n",
       "      <th>reference_image_id</th>\n",
       "      <th>image</th>\n",
       "      <th>country_code</th>\n",
       "    </tr>\n",
       "    <tr>\n",
       "      <th>id</th>\n",
       "      <th></th>\n",
       "      <th></th>\n",
       "      <th></th>\n",
       "      <th></th>\n",
       "      <th></th>\n",
       "      <th></th>\n",
       "      <th></th>\n",
       "      <th></th>\n",
       "      <th></th>\n",
       "      <th></th>\n",
       "      <th></th>\n",
       "      <th></th>\n",
       "      <th></th>\n",
       "      <th></th>\n",
       "      <th></th>\n",
       "      <th></th>\n",
       "      <th></th>\n",
       "      <th></th>\n",
       "    </tr>\n",
       "  </thead>\n",
       "  <tbody>\n",
       "    <tr>\n",
       "      <th>1</th>\n",
       "      <td>6.0</td>\n",
       "      <td>13.0</td>\n",
       "      <td>3</td>\n",
       "      <td>6</td>\n",
       "      <td>9.0</td>\n",
       "      <td>11.5</td>\n",
       "      <td>23</td>\n",
       "      <td>29</td>\n",
       "      <td>Affenpinscher</td>\n",
       "      <td>Small rodent hunting, lapdog</td>\n",
       "      <td>Toy</td>\n",
       "      <td>10</td>\n",
       "      <td>12</td>\n",
       "      <td>Stubborn, Curious, Playful, Adventurous, Activ...</td>\n",
       "      <td>Germany, France</td>\n",
       "      <td>BJa4kxc4X</td>\n",
       "      <td>{'id': 'BJa4kxc4X', 'width': 1600, 'height': 1...</td>\n",
       "      <td>NaN</td>\n",
       "    </tr>\n",
       "    <tr>\n",
       "      <th>2</th>\n",
       "      <td>50.0</td>\n",
       "      <td>60.0</td>\n",
       "      <td>23</td>\n",
       "      <td>27</td>\n",
       "      <td>25.0</td>\n",
       "      <td>27.0</td>\n",
       "      <td>64</td>\n",
       "      <td>69</td>\n",
       "      <td>Afghan Hound</td>\n",
       "      <td>Coursing and hunting</td>\n",
       "      <td>Hound</td>\n",
       "      <td>10</td>\n",
       "      <td>13</td>\n",
       "      <td>Aloof, Clownish, Dignified, Independent, Happy</td>\n",
       "      <td>Afghanistan, Iran, Pakistan</td>\n",
       "      <td>hMyT4CDXR</td>\n",
       "      <td>{'id': 'hMyT4CDXR', 'width': 606, 'height': 38...</td>\n",
       "      <td>AG</td>\n",
       "    </tr>\n",
       "    <tr>\n",
       "      <th>3</th>\n",
       "      <td>44.0</td>\n",
       "      <td>66.0</td>\n",
       "      <td>20</td>\n",
       "      <td>30</td>\n",
       "      <td>30.0</td>\n",
       "      <td>30.0</td>\n",
       "      <td>76</td>\n",
       "      <td>76</td>\n",
       "      <td>African Hunting Dog</td>\n",
       "      <td>A wild pack animal</td>\n",
       "      <td>NaN</td>\n",
       "      <td>11</td>\n",
       "      <td>11</td>\n",
       "      <td>Wild, Hardworking, Dutiful</td>\n",
       "      <td>NaN</td>\n",
       "      <td>rkiByec47</td>\n",
       "      <td>{'id': 'rkiByec47', 'width': 500, 'height': 33...</td>\n",
       "      <td>NaN</td>\n",
       "    </tr>\n",
       "    <tr>\n",
       "      <th>4</th>\n",
       "      <td>40.0</td>\n",
       "      <td>65.0</td>\n",
       "      <td>18</td>\n",
       "      <td>29</td>\n",
       "      <td>21.0</td>\n",
       "      <td>23.0</td>\n",
       "      <td>53</td>\n",
       "      <td>58</td>\n",
       "      <td>Airedale Terrier</td>\n",
       "      <td>Badger, otter hunting</td>\n",
       "      <td>Terrier</td>\n",
       "      <td>10</td>\n",
       "      <td>13</td>\n",
       "      <td>Outgoing, Friendly, Alert, Confident, Intellig...</td>\n",
       "      <td>United Kingdom, England</td>\n",
       "      <td>1-7cgoZSh</td>\n",
       "      <td>{'id': '1-7cgoZSh', 'width': 645, 'height': 43...</td>\n",
       "      <td>NaN</td>\n",
       "    </tr>\n",
       "    <tr>\n",
       "      <th>5</th>\n",
       "      <td>90.0</td>\n",
       "      <td>120.0</td>\n",
       "      <td>41</td>\n",
       "      <td>54</td>\n",
       "      <td>28.0</td>\n",
       "      <td>34.0</td>\n",
       "      <td>71</td>\n",
       "      <td>86</td>\n",
       "      <td>Akbash Dog</td>\n",
       "      <td>Sheep guarding</td>\n",
       "      <td>Working</td>\n",
       "      <td>10</td>\n",
       "      <td>12</td>\n",
       "      <td>Loyal, Independent, Intelligent, Brave</td>\n",
       "      <td>NaN</td>\n",
       "      <td>26pHT3Qk7</td>\n",
       "      <td>{'id': '26pHT3Qk7', 'width': 600, 'height': 47...</td>\n",
       "      <td>NaN</td>\n",
       "    </tr>\n",
       "    <tr>\n",
       "      <th>...</th>\n",
       "      <td>...</td>\n",
       "      <td>...</td>\n",
       "      <td>...</td>\n",
       "      <td>...</td>\n",
       "      <td>...</td>\n",
       "      <td>...</td>\n",
       "      <td>...</td>\n",
       "      <td>...</td>\n",
       "      <td>...</td>\n",
       "      <td>...</td>\n",
       "      <td>...</td>\n",
       "      <td>...</td>\n",
       "      <td>...</td>\n",
       "      <td>...</td>\n",
       "      <td>...</td>\n",
       "      <td>...</td>\n",
       "      <td>...</td>\n",
       "      <td>...</td>\n",
       "    </tr>\n",
       "    <tr>\n",
       "      <th>259</th>\n",
       "      <td>15.0</td>\n",
       "      <td>19.0</td>\n",
       "      <td>7</td>\n",
       "      <td>9</td>\n",
       "      <td>13.0</td>\n",
       "      <td>16.0</td>\n",
       "      <td>33</td>\n",
       "      <td>41</td>\n",
       "      <td>Wire Fox Terrier</td>\n",
       "      <td>Vermin hunting, fox bolting</td>\n",
       "      <td>NaN</td>\n",
       "      <td>13</td>\n",
       "      <td>14</td>\n",
       "      <td>Fearless, Friendly, Bold, Keen, Alert, Quick</td>\n",
       "      <td>NaN</td>\n",
       "      <td>SJ6f2g9EQ</td>\n",
       "      <td>{'id': 'SJ6f2g9EQ', 'width': 1000, 'height': 7...</td>\n",
       "      <td>NaN</td>\n",
       "    </tr>\n",
       "    <tr>\n",
       "      <th>260</th>\n",
       "      <td>45.0</td>\n",
       "      <td>70.0</td>\n",
       "      <td>20</td>\n",
       "      <td>32</td>\n",
       "      <td>20.0</td>\n",
       "      <td>24.0</td>\n",
       "      <td>51</td>\n",
       "      <td>61</td>\n",
       "      <td>Wirehaired Pointing Griffon</td>\n",
       "      <td>Gundog, \"swamp-tromping\", Flushing, pointing, ...</td>\n",
       "      <td>Sporting</td>\n",
       "      <td>12</td>\n",
       "      <td>14</td>\n",
       "      <td>Loyal, Gentle, Vigilant, Trainable, Proud</td>\n",
       "      <td>NaN</td>\n",
       "      <td>Bkam2l9Vm</td>\n",
       "      <td>{'id': 'Bkam2l9Vm', 'width': 2328, 'height': 1...</td>\n",
       "      <td>NaN</td>\n",
       "    </tr>\n",
       "    <tr>\n",
       "      <th>261</th>\n",
       "      <td>45.0</td>\n",
       "      <td>65.0</td>\n",
       "      <td>20</td>\n",
       "      <td>29</td>\n",
       "      <td>21.5</td>\n",
       "      <td>25.0</td>\n",
       "      <td>55</td>\n",
       "      <td>64</td>\n",
       "      <td>Wirehaired Vizsla</td>\n",
       "      <td>NaN</td>\n",
       "      <td>Sporting</td>\n",
       "      <td>12</td>\n",
       "      <td>14</td>\n",
       "      <td>NaN</td>\n",
       "      <td>NaN</td>\n",
       "      <td>r1I4hl5Em</td>\n",
       "      <td>{'id': 'r1I4hl5Em', 'width': 1024, 'height': 7...</td>\n",
       "      <td>NaN</td>\n",
       "    </tr>\n",
       "    <tr>\n",
       "      <th>262</th>\n",
       "      <td>9.0</td>\n",
       "      <td>31.0</td>\n",
       "      <td>4</td>\n",
       "      <td>14</td>\n",
       "      <td>10.0</td>\n",
       "      <td>23.0</td>\n",
       "      <td>25</td>\n",
       "      <td>58</td>\n",
       "      <td>Xoloitzcuintli</td>\n",
       "      <td>NaN</td>\n",
       "      <td>Non-Sporting</td>\n",
       "      <td>12</td>\n",
       "      <td>14</td>\n",
       "      <td>Cheerful, Alert, Companionable, Intelligent, P...</td>\n",
       "      <td>NaN</td>\n",
       "      <td>HkNS3gqEm</td>\n",
       "      <td>{'id': 'HkNS3gqEm', 'width': 1500, 'height': 1...</td>\n",
       "      <td>NaN</td>\n",
       "    </tr>\n",
       "    <tr>\n",
       "      <th>264</th>\n",
       "      <td>4.0</td>\n",
       "      <td>7.0</td>\n",
       "      <td>2</td>\n",
       "      <td>3</td>\n",
       "      <td>8.0</td>\n",
       "      <td>9.0</td>\n",
       "      <td>20</td>\n",
       "      <td>23</td>\n",
       "      <td>Yorkshire Terrier</td>\n",
       "      <td>Small vermin hunting</td>\n",
       "      <td>Toy</td>\n",
       "      <td>12</td>\n",
       "      <td>16</td>\n",
       "      <td>Bold, Independent, Confident, Intelligent, Cou...</td>\n",
       "      <td>NaN</td>\n",
       "      <td>B12BnxcVQ</td>\n",
       "      <td>{'id': 'B12BnxcVQ', 'width': 1024, 'height': 6...</td>\n",
       "      <td>NaN</td>\n",
       "    </tr>\n",
       "  </tbody>\n",
       "</table>\n",
       "<p>172 rows × 18 columns</p>\n",
       "</div>"
      ],
      "text/plain": [
       "     imperial_weight_min  imperial_weight_max  metric_weight_min  \\\n",
       "id                                                                 \n",
       "1                    6.0                 13.0                  3   \n",
       "2                   50.0                 60.0                 23   \n",
       "3                   44.0                 66.0                 20   \n",
       "4                   40.0                 65.0                 18   \n",
       "5                   90.0                120.0                 41   \n",
       "..                   ...                  ...                ...   \n",
       "259                 15.0                 19.0                  7   \n",
       "260                 45.0                 70.0                 20   \n",
       "261                 45.0                 65.0                 20   \n",
       "262                  9.0                 31.0                  4   \n",
       "264                  4.0                  7.0                  2   \n",
       "\n",
       "     metric_weight_max  imperial_height_min  imperial_height_max  \\\n",
       "id                                                                 \n",
       "1                    6                  9.0                 11.5   \n",
       "2                   27                 25.0                 27.0   \n",
       "3                   30                 30.0                 30.0   \n",
       "4                   29                 21.0                 23.0   \n",
       "5                   54                 28.0                 34.0   \n",
       "..                 ...                  ...                  ...   \n",
       "259                  9                 13.0                 16.0   \n",
       "260                 32                 20.0                 24.0   \n",
       "261                 29                 21.5                 25.0   \n",
       "262                 14                 10.0                 23.0   \n",
       "264                  3                  8.0                  9.0   \n",
       "\n",
       "     metric_height_min  metric_height_max                         name  \\\n",
       "id                                                                       \n",
       "1                   23                 29                Affenpinscher   \n",
       "2                   64                 69                 Afghan Hound   \n",
       "3                   76                 76          African Hunting Dog   \n",
       "4                   53                 58             Airedale Terrier   \n",
       "5                   71                 86                   Akbash Dog   \n",
       "..                 ...                ...                          ...   \n",
       "259                 33                 41             Wire Fox Terrier   \n",
       "260                 51                 61  Wirehaired Pointing Griffon   \n",
       "261                 55                 64            Wirehaired Vizsla   \n",
       "262                 25                 58               Xoloitzcuintli   \n",
       "264                 20                 23            Yorkshire Terrier   \n",
       "\n",
       "                                              bred_for   breed_group  \\\n",
       "id                                                                     \n",
       "1                         Small rodent hunting, lapdog           Toy   \n",
       "2                                 Coursing and hunting         Hound   \n",
       "3                                   A wild pack animal           NaN   \n",
       "4                                Badger, otter hunting       Terrier   \n",
       "5                                       Sheep guarding       Working   \n",
       "..                                                 ...           ...   \n",
       "259                        Vermin hunting, fox bolting           NaN   \n",
       "260  Gundog, \"swamp-tromping\", Flushing, pointing, ...      Sporting   \n",
       "261                                                NaN      Sporting   \n",
       "262                                                NaN  Non-Sporting   \n",
       "264                               Small vermin hunting           Toy   \n",
       "\n",
       "     min_life_span  max_life_span  \\\n",
       "id                                  \n",
       "1               10             12   \n",
       "2               10             13   \n",
       "3               11             11   \n",
       "4               10             13   \n",
       "5               10             12   \n",
       "..             ...            ...   \n",
       "259             13             14   \n",
       "260             12             14   \n",
       "261             12             14   \n",
       "262             12             14   \n",
       "264             12             16   \n",
       "\n",
       "                                           temperament  \\\n",
       "id                                                       \n",
       "1    Stubborn, Curious, Playful, Adventurous, Activ...   \n",
       "2       Aloof, Clownish, Dignified, Independent, Happy   \n",
       "3                           Wild, Hardworking, Dutiful   \n",
       "4    Outgoing, Friendly, Alert, Confident, Intellig...   \n",
       "5               Loyal, Independent, Intelligent, Brave   \n",
       "..                                                 ...   \n",
       "259       Fearless, Friendly, Bold, Keen, Alert, Quick   \n",
       "260          Loyal, Gentle, Vigilant, Trainable, Proud   \n",
       "261                                                NaN   \n",
       "262  Cheerful, Alert, Companionable, Intelligent, P...   \n",
       "264  Bold, Independent, Confident, Intelligent, Cou...   \n",
       "\n",
       "                          origin reference_image_id  \\\n",
       "id                                                    \n",
       "1                Germany, France          BJa4kxc4X   \n",
       "2    Afghanistan, Iran, Pakistan          hMyT4CDXR   \n",
       "3                            NaN          rkiByec47   \n",
       "4        United Kingdom, England          1-7cgoZSh   \n",
       "5                            NaN          26pHT3Qk7   \n",
       "..                           ...                ...   \n",
       "259                          NaN          SJ6f2g9EQ   \n",
       "260                          NaN          Bkam2l9Vm   \n",
       "261                          NaN          r1I4hl5Em   \n",
       "262                          NaN          HkNS3gqEm   \n",
       "264                          NaN          B12BnxcVQ   \n",
       "\n",
       "                                                 image country_code  \n",
       "id                                                                   \n",
       "1    {'id': 'BJa4kxc4X', 'width': 1600, 'height': 1...          NaN  \n",
       "2    {'id': 'hMyT4CDXR', 'width': 606, 'height': 38...           AG  \n",
       "3    {'id': 'rkiByec47', 'width': 500, 'height': 33...          NaN  \n",
       "4    {'id': '1-7cgoZSh', 'width': 645, 'height': 43...          NaN  \n",
       "5    {'id': '26pHT3Qk7', 'width': 600, 'height': 47...          NaN  \n",
       "..                                                 ...          ...  \n",
       "259  {'id': 'SJ6f2g9EQ', 'width': 1000, 'height': 7...          NaN  \n",
       "260  {'id': 'Bkam2l9Vm', 'width': 2328, 'height': 1...          NaN  \n",
       "261  {'id': 'r1I4hl5Em', 'width': 1024, 'height': 7...          NaN  \n",
       "262  {'id': 'HkNS3gqEm', 'width': 1500, 'height': 1...          NaN  \n",
       "264  {'id': 'B12BnxcVQ', 'width': 1024, 'height': 6...          NaN  \n",
       "\n",
       "[172 rows x 18 columns]"
      ]
     },
     "execution_count": 2,
     "metadata": {},
     "output_type": "execute_result"
    }
   ],
   "source": [
    "pet_df = pd.read_csv('pet_cleaned.csv', index_col = 'id')\n",
    "pet_df"
   ]
  },
  {
   "cell_type": "code",
   "execution_count": 54,
   "metadata": {},
   "outputs": [],
   "source": [
    "pet_df['imperial_weight_mid'] = (pet_df['imperial_weight_max'] + pet_df['imperial_weight_max']) / 2\n",
    "pet_df['imperial_height_mid'] = (pet_df['imperial_height_max'] + pet_df['imperial_height_max']) / 2\n",
    "pet_df['metric_weight_mid'] = (pet_df['metric_weight_max'] + pet_df['metric_weight_max']) / 2\n",
    "pet_df['metric_height_mid'] = (pet_df['metric_height_max'] + pet_df['metric_height_max']) / 2"
   ]
  },
  {
   "cell_type": "code",
   "execution_count": 56,
   "metadata": {},
   "outputs": [
    {
     "data": {
      "image/png": "[encoded data removed]",
      "text/plain": [
       "<Figure size 1152x648 with 16 Axes>"
      ]
     },
     "metadata": {
      "needs_background": "light"
     },
     "output_type": "display_data"
    }
   ],
   "source": [
    "pet_df.hist(figsize=(16,9),bins=30)\n",
    "plt.tight_layout()"
   ]
  },
  {
   "cell_type": "code",
   "execution_count": 43,
   "metadata": {},
   "outputs": [
    {
     "data": {
      "text/plain": [
       "breed_group\n",
       "Herding         21\n",
       "Hound           22\n",
       "Mixed            2\n",
       "Non-Sporting    17\n",
       "Sporting        26\n",
       "Terrier         19\n",
       "Toy             18\n",
       "Working         30\n",
       "Name: name, dtype: int64"
      ]
     },
     "execution_count": 43,
     "metadata": {},
     "output_type": "execute_result"
    }
   ],
   "source": [
    "pet_df.groupby('breed_group')['name'].count()"
   ]
  },
  {
   "cell_type": "code",
   "execution_count": 48,
   "metadata": {},
   "outputs": [
    {
     "data": {
      "text/plain": [
       "<AxesSubplot:>"
      ]
     },
     "execution_count": 48,
     "metadata": {},
     "output_type": "execute_result"
    },
    {
     "data": {
      "image/png": "[encoded data removed]",
      "text/plain": [
       "<Figure size 1152x720 with 2 Axes>"
      ]
     },
     "metadata": {
      "needs_background": "light"
     },
     "output_type": "display_data"
    }
   ],
   "source": [
    "# cor = pet_df[['imperial_weight_min', 'imperial_weight_max', 'metric_weight_min','metric_weight_max', 'imperial_height_min', 'imperial_height_max', 'metric_height_min', 'metric_height_max']].corr()\n",
    "\n",
    "# fig, ax = plt.subplots(figsize=(16,10))\n",
    "# sns.heatmap(cor, annot = True, ax = ax, cmap=\"YlGnBu\")"
   ]
  },
  {
   "cell_type": "markdown",
   "metadata": {},
   "source": [
    "## Binning"
   ]
  },
  {
   "cell_type": "code",
   "execution_count": null,
   "metadata": {},
   "outputs": [],
   "source": [
    "# binning by height\n",
    "pd.cut(pet_df[column], bins = [ ], labels = [ ] )"
   ]
  },
  {
   "cell_type": "code",
   "execution_count": null,
   "metadata": {},
   "outputs": [],
   "source": [
    "# binning by weight"
   ]
  },
  {
   "cell_type": "code",
   "execution_count": null,
   "metadata": {},
   "outputs": [],
   "source": [
    "# binning by life span"
   ]
  },
  {
   "cell_type": "markdown",
   "metadata": {},
   "source": [
    "## Plots"
   ]
  },
  {
   "cell_type": "code",
   "execution_count": 14,
   "metadata": {},
   "outputs": [
    {
     "data": {
      "text/plain": [
       "Text(0, 0.5, 'Frequency')"
      ]
     },
     "execution_count": 14,
     "metadata": {},
     "output_type": "execute_result"
    },
    {
     "data": {
      "image/png": "[encoded data removed]",
      "text/plain": [
       "<Figure size 432x288 with 1 Axes>"
      ]
     },
     "metadata": {
      "needs_background": "light"
     },
     "output_type": "display_data"
    }
   ],
   "source": [
    "# histogram of weight (imperial)\n",
    "\n",
    "weight_hist = pet_df['imperial_weight_max'].hist(bins = 20, alpha=0.5, legend = True)\n",
    "weight_hist = pet_df['imperial_weight_min'].hist(bins = 20, alpha=0.5, legend = True)\n",
    "weight_hist.set_xlabel(\"Pet Weight\")\n",
    "weight_hist.set_ylabel(\"Frequency\")"
   ]
  },
  {
   "cell_type": "code",
   "execution_count": 18,
   "metadata": {},
   "outputs": [
    {
     "data": {
      "text/plain": [
       "Text(0, 0.5, 'Frequency')"
      ]
     },
     "execution_count": 18,
     "metadata": {},
     "output_type": "execute_result"
    },
    {
     "data": {
      "image/png": "[encoded data removed]",
      "text/plain": [
       "<Figure size 432x288 with 1 Axes>"
      ]
     },
     "metadata": {
      "needs_background": "light"
     },
     "output_type": "display_data"
    }
   ],
   "source": [
    "# histogram of height (imperial)\n",
    "\n",
    "height_hist = pet_df['imperial_height_max'].hist(bins = 20, alpha=0.5, legend = True)\n",
    "height_hist = pet_df['imperial_height_min'].hist(bins = 20, alpha=0.5, legend = True)\n",
    "height_hist.set_xlabel(\"Pet height\")\n",
    "height_hist.set_ylabel(\"Frequency\")"
   ]
  },
  {
   "cell_type": "code",
   "execution_count": 21,
   "metadata": {},
   "outputs": [
    {
     "data": {
      "text/plain": [
       "Text(0, 0.5, 'Frequency')"
      ]
     },
     "execution_count": 21,
     "metadata": {},
     "output_type": "execute_result"
    },
    {
     "data": {
      "image/png": "[encoded data removed]",
      "text/plain": [
       "<Figure size 432x288 with 1 Axes>"
      ]
     },
     "metadata": {
      "needs_background": "light"
     },
     "output_type": "display_data"
    }
   ],
   "source": [
    "# plot of height (imperial)\n",
    "\n",
    "height_plot = pet_df['imperial_height_max'].plot(legend = True)\n",
    "height_plot = pet_df['imperial_height_min'].plot(legend = True)\n",
    "height_plot.set_xlabel(\"Pet height\")\n",
    "height_plot.set_ylabel(\"Frequency\")"
   ]
  },
  {
   "cell_type": "code",
   "execution_count": 33,
   "metadata": {},
   "outputs": [
    {
     "data": {
      "application/vnd.plotly.v1+json": {
       "config": {
        "plotlyServerURL": "https://plot.ly"
       },
       "data": [
        {
         "hovertemplate": "imperial_weight_max=%{x}<br>name=%{y}<extra></extra>",
         "legendgroup": "",
         "line": {
          "color": "#636efa",
          "dash": "solid"
         },
         "marker": {
          "symbol": "circle"
         },
         "mode": "markers+lines",
         "name": "",
         "orientation": "h",
         "showlegend": false,
         "type": "scatter",
         "x": [
          6,
          7,
          7,
          7,
          8,
          9,
          9,
          9,
          10,
          10,
          11,
          12,
          12,
          12,
          12,
          13,
          13,
          13,
          13,
          14,
          14,
          14,
          15,
          15,
          15,
          15.5,
          16,
          16,
          16,
          17,
          18,
          18,
          18,
          18,
          18,
          19,
          19,
          20,
          22,
          22,
          23,
          23,
          24,
          24,
          25,
          25,
          27,
          28,
          28,
          30,
          30,
          30,
          30,
          30,
          30,
          31,
          33,
          33,
          35,
          35,
          35,
          35,
          38,
          38,
          40,
          40,
          40,
          40,
          40,
          40,
          45,
          45,
          45,
          45,
          45,
          46,
          50,
          50,
          50,
          50,
          50,
          50,
          53,
          55,
          55,
          55,
          55,
          55,
          55,
          60,
          60,
          60,
          60,
          60,
          60,
          60,
          60,
          60,
          62,
          65,
          65,
          65,
          65,
          65,
          65,
          65,
          65,
          66,
          66,
          70,
          70,
          70,
          70,
          70,
          70,
          70,
          70,
          70,
          75,
          75,
          80,
          80,
          80,
          80,
          80,
          80,
          80,
          80,
          80,
          85,
          85,
          85,
          85,
          88,
          88,
          90,
          90,
          90,
          90,
          90,
          90,
          95,
          100,
          100,
          100,
          100,
          100,
          100,
          110,
          110,
          110,
          110,
          110,
          115,
          115,
          115,
          120,
          120,
          120,
          120,
          130,
          130,
          140,
          140,
          150,
          150,
          150,
          170,
          180,
          180,
          190,
          200
         ],
         "xaxis": "x",
         "y": [
          "Russian Toy",
          "Yorkshire Terrier",
          "Pomeranian",
          "Maltese",
          "English Toy Terrier",
          "Toy Fox Terrier",
          "Poodle (Toy)",
          "Japanese Chin",
          "Silky Terrier",
          "American Eskimo Dog (Miniature)",
          "Miniature Pinscher",
          "Griffon Bruxellois",
          "Norfolk Terrier",
          "Norwich Terrier",
          "Papillon",
          "Havanese",
          "Lancashire Heeler",
          "Chinese Crested",
          "Affenpinscher",
          "English Toy Spaniel",
          "Pekingese",
          "Cairn Terrier",
          "Coton de Tulear",
          "Tibetan Spaniel",
          "Italian Greyhound",
          "Border Terrier",
          "Australian Terrier",
          "Schipperke",
          "Shih Tzu",
          "Poodle (Miniature)",
          "Lhasa Apso",
          "Bichon Frise",
          "Pug",
          "Cavalier King Charles Spaniel",
          "Smooth Fox Terrier",
          "Japanese Spitz",
          "Wire Fox Terrier",
          "Miniature Schnauzer",
          "Scottish Terrier",
          "West Highland White Terrier",
          "Shiba Inu",
          "Bedlington Terrier",
          "Basenji",
          "Tibetan Terrier",
          "Boston Terrier",
          "Rat Terrier",
          "Irish Terrier",
          "Finnish Spitz",
          "French Bulldog",
          "Cocker Spaniel",
          "Swedish Vallhund",
          "Kooikerhondje",
          "Cocker Spaniel (American)",
          "Shetland Sheepdog",
          "Pembroke Welsh Corgi",
          "Xoloitzcuintli",
          "Bull Terrier (Miniature)",
          "Pumi",
          "Puli",
          "Beagle",
          "Whippet",
          "Lagotto Romagnolo",
          "Cardigan Welsh Corgi",
          "Staffordshire Bull Terrier",
          "American Eskimo Dog",
          "Miniature American Shepherd",
          "Soft Coated Wheaten Terrier",
          "Glen of Imaal Terrier",
          "Boykin Spaniel",
          "Basset Bleu de Gascogne",
          "Keeshond",
          "Border Collie",
          "Brittany",
          "German Pinscher",
          "American Water Spaniel",
          "Australian Kelpie",
          "Field Spaniel",
          "Nova Scotia Duck Tolling Retriever",
          "English Springer Spaniel",
          "Alaskan Husky",
          "Spanish Water Dog",
          "Standard Schnauzer",
          "Finnish Lapphund",
          "Dalmatian",
          "Welsh Springer Spaniel",
          "Appenzeller Sennenhund",
          "Bearded Collie",
          "Azawakh",
          "Thai Ridgeback",
          "Siberian Husky",
          "Samoyed",
          "American Pit Bull Terrier",
          "Plott",
          "American Staffordshire Terrier",
          "Pharaoh Hound",
          "Chinese Shar-Pei",
          "Harrier",
          "Afghan Hound",
          "Australian Cattle Dog",
          "Belgian Tervuren",
          "Wirehaired Vizsla",
          "Airedale Terrier",
          "Vizsla",
          "Barbet",
          "Basset Hound",
          "Australian Shepherd",
          "Saluki",
          "African Hunting Dog",
          "English Shepherd",
          "Chow Chow",
          "Wirehaired Pointing Griffon",
          "German Shorthaired Pointer",
          "Eurasier",
          "Greyhound",
          "Irish Setter",
          "Boxer",
          "Dutch Shepherd",
          "Bull Terrier",
          "Golden Retriever",
          "American Foxhound",
          "English Setter",
          "Bluetick Coonhound",
          "Chesapeake Bay Retriever",
          "Belgian Malinois",
          "Gordon Setter",
          "Labrador Retriever",
          "Treeing Walker Coonhound",
          "Rhodesian Ridgeback",
          "Redbone Coonhound",
          "Clumber Spaniel",
          "White Shepherd",
          "Spinone Italiano",
          "Olde English Bulldogge",
          "Doberman Pinscher",
          "Bracco Italiano",
          "Alapaha Blue Blood Bulldog",
          "Chinook",
          "German Shepherd Dog",
          "Giant Schnauzer",
          "Weimaraner",
          "Briard",
          "Catahoula Leopard Dog",
          "Dogo Argentino",
          "Komondor",
          "Caucasian Shepherd (Ovcharka)",
          "Black and Tan Coonhound",
          "Old English Sheepdog",
          "Alaskan Malamute",
          "Beauceron",
          "Rottweiler",
          "Bouvier des Flandres",
          "Bloodhound",
          "Perro de Presa Canario",
          "Kuvasz",
          "Akita",
          "Great Pyrenees",
          "American Bulldog",
          "Akbash Dog",
          "Cane Corso",
          "Bernese Mountain Dog",
          "Scottish Deerhound",
          "Bullmastiff",
          "Tibetan Mastiff",
          "Shiloh Shepherd",
          "Newfoundland",
          "Anatolian Shepherd Dog",
          "American Bully",
          "Leonberger",
          "Saint Bernard",
          "Irish Wolfhound",
          "Great Dane",
          "Boerboel"
         ],
         "yaxis": "y"
        }
       ],
       "layout": {
        "legend": {
         "tracegroupgap": 0
        },
        "margin": {
         "t": 60
        },
        "template": {
         "data": {
          "bar": [
           {
            "error_x": {
             "color": "#2a3f5f"
            },
            "error_y": {
             "color": "#2a3f5f"
            },
            "marker": {
             "line": {
              "color": "#E5ECF6",
              "width": 0.5
             },
             "pattern": {
              "fillmode": "overlay",
              "size": 10,
              "solidity": 0.2
             }
            },
            "type": "bar"
           }
          ],
          "barpolar": [
           {
            "marker": {
             "line": {
              "color": "#E5ECF6",
              "width": 0.5
             },
             "pattern": {
              "fillmode": "overlay",
              "size": 10,
              "solidity": 0.2
             }
            },
            "type": "barpolar"
           }
          ],
          "carpet": [
           {
            "aaxis": {
             "endlinecolor": "#2a3f5f",
             "gridcolor": "white",
             "linecolor": "white",
             "minorgridcolor": "white",
             "startlinecolor": "#2a3f5f"
            },
            "baxis": {
             "endlinecolor": "#2a3f5f",
             "gridcolor": "white",
             "linecolor": "white",
             "minorgridcolor": "white",
             "startlinecolor": "#2a3f5f"
            },
            "type": "carpet"
           }
          ],
          "choropleth": [
           {
            "colorbar": {
             "outlinewidth": 0,
             "ticks": ""
            },
            "type": "choropleth"
           }
          ],
          "contour": [
           {
            "colorbar": {
             "outlinewidth": 0,
             "ticks": ""
            },
            "colorscale": [
             [
              0,
              "#0d0887"
             ],
             [
              0.1111111111111111,
              "#46039f"
             ],
             [
              0.2222222222222222,
              "#7201a8"
             ],
             [
              0.3333333333333333,
              "#9c179e"
             ],
             [
              0.4444444444444444,
              "#bd3786"
             ],
             [
              0.5555555555555556,
              "#d8576b"
             ],
             [
              0.6666666666666666,
              "#ed7953"
             ],
             [
              0.7777777777777778,
              "#fb9f3a"
             ],
             [
              0.8888888888888888,
              "#fdca26"
             ],
             [
              1,
              "#f0f921"
             ]
            ],
            "type": "contour"
           }
          ],
          "contourcarpet": [
           {
            "colorbar": {
             "outlinewidth": 0,
             "ticks": ""
            },
            "type": "contourcarpet"
           }
          ],
          "heatmap": [
           {
            "colorbar": {
             "outlinewidth": 0,
             "ticks": ""
            },
            "colorscale": [
             [
              0,
              "#0d0887"
             ],
             [
              0.1111111111111111,
              "#46039f"
             ],
             [
              0.2222222222222222,
              "#7201a8"
             ],
             [
              0.3333333333333333,
              "#9c179e"
             ],
             [
              0.4444444444444444,
              "#bd3786"
             ],
             [
              0.5555555555555556,
              "#d8576b"
             ],
             [
              0.6666666666666666,
              "#ed7953"
             ],
             [
              0.7777777777777778,
              "#fb9f3a"
             ],
             [
              0.8888888888888888,
              "#fdca26"
             ],
             [
              1,
              "#f0f921"
             ]
            ],
            "type": "heatmap"
           }
          ],
          "heatmapgl": [
           {
            "colorbar": {
             "outlinewidth": 0,
             "ticks": ""
            },
            "colorscale": [
             [
              0,
              "#0d0887"
             ],
             [
              0.1111111111111111,
              "#46039f"
             ],
             [
              0.2222222222222222,
              "#7201a8"
             ],
             [
              0.3333333333333333,
              "#9c179e"
             ],
             [
              0.4444444444444444,
              "#bd3786"
             ],
             [
              0.5555555555555556,
              "#d8576b"
             ],
             [
              0.6666666666666666,
              "#ed7953"
             ],
             [
              0.7777777777777778,
              "#fb9f3a"
             ],
             [
              0.8888888888888888,
              "#fdca26"
             ],
             [
              1,
              "#f0f921"
             ]
            ],
            "type": "heatmapgl"
           }
          ],
          "histogram": [
           {
            "marker": {
             "pattern": {
              "fillmode": "overlay",
              "size": 10,
              "solidity": 0.2
             }
            },
            "type": "histogram"
           }
          ],
          "histogram2d": [
           {
            "colorbar": {
             "outlinewidth": 0,
             "ticks": ""
            },
            "colorscale": [
             [
              0,
              "#0d0887"
             ],
             [
              0.1111111111111111,
              "#46039f"
             ],
             [
              0.2222222222222222,
              "#7201a8"
             ],
             [
              0.3333333333333333,
              "#9c179e"
             ],
             [
              0.4444444444444444,
              "#bd3786"
             ],
             [
              0.5555555555555556,
              "#d8576b"
             ],
             [
              0.6666666666666666,
              "#ed7953"
             ],
             [
              0.7777777777777778,
              "#fb9f3a"
             ],
             [
              0.8888888888888888,
              "#fdca26"
             ],
             [
              1,
              "#f0f921"
             ]
            ],
            "type": "histogram2d"
           }
          ],
          "histogram2dcontour": [
           {
            "colorbar": {
             "outlinewidth": 0,
             "ticks": ""
            },
            "colorscale": [
             [
              0,
              "#0d0887"
             ],
             [
              0.1111111111111111,
              "#46039f"
             ],
             [
              0.2222222222222222,
              "#7201a8"
             ],
             [
              0.3333333333333333,
              "#9c179e"
             ],
             [
              0.4444444444444444,
              "#bd3786"
             ],
             [
              0.5555555555555556,
              "#d8576b"
             ],
             [
              0.6666666666666666,
              "#ed7953"
             ],
             [
              0.7777777777777778,
              "#fb9f3a"
             ],
             [
              0.8888888888888888,
              "#fdca26"
             ],
             [
              1,
              "#f0f921"
             ]
            ],
            "type": "histogram2dcontour"
           }
          ],
          "mesh3d": [
           {
            "colorbar": {
             "outlinewidth": 0,
             "ticks": ""
            },
            "type": "mesh3d"
           }
          ],
          "parcoords": [
           {
            "line": {
             "colorbar": {
              "outlinewidth": 0,
              "ticks": ""
             }
            },
            "type": "parcoords"
           }
          ],
          "pie": [
           {
            "automargin": true,
            "type": "pie"
           }
          ],
          "scatter": [
           {
            "marker": {
             "colorbar": {
              "outlinewidth": 0,
              "ticks": ""
             }
            },
            "type": "scatter"
           }
          ],
          "scatter3d": [
           {
            "line": {
             "colorbar": {
              "outlinewidth": 0,
              "ticks": ""
             }
            },
            "marker": {
             "colorbar": {
              "outlinewidth": 0,
              "ticks": ""
             }
            },
            "type": "scatter3d"
           }
          ],
          "scattercarpet": [
           {
            "marker": {
             "colorbar": {
              "outlinewidth": 0,
              "ticks": ""
             }
            },
            "type": "scattercarpet"
           }
          ],
          "scattergeo": [
           {
            "marker": {
             "colorbar": {
              "outlinewidth": 0,
              "ticks": ""
             }
            },
            "type": "scattergeo"
           }
          ],
          "scattergl": [
           {
            "marker": {
             "colorbar": {
              "outlinewidth": 0,
              "ticks": ""
             }
            },
            "type": "scattergl"
           }
          ],
          "scattermapbox": [
           {
            "marker": {
             "colorbar": {
              "outlinewidth": 0,
              "ticks": ""
             }
            },
            "type": "scattermapbox"
           }
          ],
          "scatterpolar": [
           {
            "marker": {
             "colorbar": {
              "outlinewidth": 0,
              "ticks": ""
             }
            },
            "type": "scatterpolar"
           }
          ],
          "scatterpolargl": [
           {
            "marker": {
             "colorbar": {
              "outlinewidth": 0,
              "ticks": ""
             }
            },
            "type": "scatterpolargl"
           }
          ],
          "scatterternary": [
           {
            "marker": {
             "colorbar": {
              "outlinewidth": 0,
              "ticks": ""
             }
            },
            "type": "scatterternary"
           }
          ],
          "surface": [
           {
            "colorbar": {
             "outlinewidth": 0,
             "ticks": ""
            },
            "colorscale": [
             [
              0,
              "#0d0887"
             ],
             [
              0.1111111111111111,
              "#46039f"
             ],
             [
              0.2222222222222222,
              "#7201a8"
             ],
             [
              0.3333333333333333,
              "#9c179e"
             ],
             [
              0.4444444444444444,
              "#bd3786"
             ],
             [
              0.5555555555555556,
              "#d8576b"
             ],
             [
              0.6666666666666666,
              "#ed7953"
             ],
             [
              0.7777777777777778,
              "#fb9f3a"
             ],
             [
              0.8888888888888888,
              "#fdca26"
             ],
             [
              1,
              "#f0f921"
             ]
            ],
            "type": "surface"
           }
          ],
          "table": [
           {
            "cells": {
             "fill": {
              "color": "#EBF0F8"
             },
             "line": {
              "color": "white"
             }
            },
            "header": {
             "fill": {
              "color": "#C8D4E3"
             },
             "line": {
              "color": "white"
             }
            },
            "type": "table"
           }
          ]
         },
         "layout": {
          "annotationdefaults": {
           "arrowcolor": "#2a3f5f",
           "arrowhead": 0,
           "arrowwidth": 1
          },
          "autotypenumbers": "strict",
          "coloraxis": {
           "colorbar": {
            "outlinewidth": 0,
            "ticks": ""
           }
          },
          "colorscale": {
           "diverging": [
            [
             0,
             "#8e0152"
            ],
            [
             0.1,
             "#c51b7d"
            ],
            [
             0.2,
             "#de77ae"
            ],
            [
             0.3,
             "#f1b6da"
            ],
            [
             0.4,
             "#fde0ef"
            ],
            [
             0.5,
             "#f7f7f7"
            ],
            [
             0.6,
             "#e6f5d0"
            ],
            [
             0.7,
             "#b8e186"
            ],
            [
             0.8,
             "#7fbc41"
            ],
            [
             0.9,
             "#4d9221"
            ],
            [
             1,
             "#276419"
            ]
           ],
           "sequential": [
            [
             0,
             "#0d0887"
            ],
            [
             0.1111111111111111,
             "#46039f"
            ],
            [
             0.2222222222222222,
             "#7201a8"
            ],
            [
             0.3333333333333333,
             "#9c179e"
            ],
            [
             0.4444444444444444,
             "#bd3786"
            ],
            [
             0.5555555555555556,
             "#d8576b"
            ],
            [
             0.6666666666666666,
             "#ed7953"
            ],
            [
             0.7777777777777778,
             "#fb9f3a"
            ],
            [
             0.8888888888888888,
             "#fdca26"
            ],
            [
             1,
             "#f0f921"
            ]
           ],
           "sequentialminus": [
            [
             0,
             "#0d0887"
            ],
            [
             0.1111111111111111,
             "#46039f"
            ],
            [
             0.2222222222222222,
             "#7201a8"
            ],
            [
             0.3333333333333333,
             "#9c179e"
            ],
            [
             0.4444444444444444,
             "#bd3786"
            ],
            [
             0.5555555555555556,
             "#d8576b"
            ],
            [
             0.6666666666666666,
             "#ed7953"
            ],
            [
             0.7777777777777778,
             "#fb9f3a"
            ],
            [
             0.8888888888888888,
             "#fdca26"
            ],
            [
             1,
             "#f0f921"
            ]
           ]
          },
          "colorway": [
           "#636efa",
           "#EF553B",
           "#00cc96",
           "#ab63fa",
           "#FFA15A",
           "#19d3f3",
           "#FF6692",
           "#B6E880",
           "#FF97FF",
           "#FECB52"
          ],
          "font": {
           "color": "#2a3f5f"
          },
          "geo": {
           "bgcolor": "white",
           "lakecolor": "white",
           "landcolor": "#E5ECF6",
           "showlakes": true,
           "showland": true,
           "subunitcolor": "white"
          },
          "hoverlabel": {
           "align": "left"
          },
          "hovermode": "closest",
          "mapbox": {
           "style": "light"
          },
          "paper_bgcolor": "white",
          "plot_bgcolor": "#E5ECF6",
          "polar": {
           "angularaxis": {
            "gridcolor": "white",
            "linecolor": "white",
            "ticks": ""
           },
           "bgcolor": "#E5ECF6",
           "radialaxis": {
            "gridcolor": "white",
            "linecolor": "white",
            "ticks": ""
           }
          },
          "scene": {
           "xaxis": {
            "backgroundcolor": "#E5ECF6",
            "gridcolor": "white",
            "gridwidth": 2,
            "linecolor": "white",
            "showbackground": true,
            "ticks": "",
            "zerolinecolor": "white"
           },
           "yaxis": {
            "backgroundcolor": "#E5ECF6",
            "gridcolor": "white",
            "gridwidth": 2,
            "linecolor": "white",
            "showbackground": true,
            "ticks": "",
            "zerolinecolor": "white"
           },
           "zaxis": {
            "backgroundcolor": "#E5ECF6",
            "gridcolor": "white",
            "gridwidth": 2,
            "linecolor": "white",
            "showbackground": true,
            "ticks": "",
            "zerolinecolor": "white"
           }
          },
          "shapedefaults": {
           "line": {
            "color": "#2a3f5f"
           }
          },
          "ternary": {
           "aaxis": {
            "gridcolor": "white",
            "linecolor": "white",
            "ticks": ""
           },
           "baxis": {
            "gridcolor": "white",
            "linecolor": "white",
            "ticks": ""
           },
           "bgcolor": "#E5ECF6",
           "caxis": {
            "gridcolor": "white",
            "linecolor": "white",
            "ticks": ""
           }
          },
          "title": {
           "x": 0.05
          },
          "xaxis": {
           "automargin": true,
           "gridcolor": "white",
           "linecolor": "white",
           "ticks": "",
           "title": {
            "standoff": 15
           },
           "zerolinecolor": "white",
           "zerolinewidth": 2
          },
          "yaxis": {
           "automargin": true,
           "gridcolor": "white",
           "linecolor": "white",
           "ticks": "",
           "title": {
            "standoff": 15
           },
           "zerolinecolor": "white",
           "zerolinewidth": 2
          }
         }
        },
        "xaxis": {
         "anchor": "y",
         "domain": [
          0,
          1
         ],
         "title": {
          "text": "imperial_weight_max"
         }
        },
        "yaxis": {
         "anchor": "x",
         "domain": [
          0,
          1
         ],
         "title": {
          "text": "name"
         }
        }
       }
      }
     },
     "metadata": {},
     "output_type": "display_data"
    }
   ],
   "source": [
    "fig = px.line(pet_df.sort_values('imperial_weight_max'), x='imperial_weight_max', y='name', markers=True)\n",
    "fig.show()\n"
   ]
  },
  {
   "cell_type": "code",
   "execution_count": 27,
   "metadata": {},
   "outputs": [
    {
     "data": {
      "text/html": [
       "<div>\n",
       "<style scoped>\n",
       "    .dataframe tbody tr th:only-of-type {\n",
       "        vertical-align: middle;\n",
       "    }\n",
       "\n",
       "    .dataframe tbody tr th {\n",
       "        vertical-align: top;\n",
       "    }\n",
       "\n",
       "    .dataframe thead th {\n",
       "        text-align: right;\n",
       "    }\n",
       "</style>\n",
       "<table border=\"1\" class=\"dataframe\">\n",
       "  <thead>\n",
       "    <tr style=\"text-align: right;\">\n",
       "      <th></th>\n",
       "      <th>imperial_weight_min</th>\n",
       "      <th>imperial_weight_max</th>\n",
       "      <th>metric_weight_min</th>\n",
       "      <th>metric_weight_max</th>\n",
       "      <th>imperial_height_min</th>\n",
       "      <th>imperial_height_max</th>\n",
       "      <th>metric_height_min</th>\n",
       "      <th>metric_height_max</th>\n",
       "      <th>name</th>\n",
       "      <th>bred_for</th>\n",
       "      <th>breed_group</th>\n",
       "      <th>min_life_span</th>\n",
       "      <th>max_life_span</th>\n",
       "      <th>temperament</th>\n",
       "      <th>origin</th>\n",
       "      <th>reference_image_id</th>\n",
       "      <th>image</th>\n",
       "      <th>country_code</th>\n",
       "    </tr>\n",
       "    <tr>\n",
       "      <th>id</th>\n",
       "      <th></th>\n",
       "      <th></th>\n",
       "      <th></th>\n",
       "      <th></th>\n",
       "      <th></th>\n",
       "      <th></th>\n",
       "      <th></th>\n",
       "      <th></th>\n",
       "      <th></th>\n",
       "      <th></th>\n",
       "      <th></th>\n",
       "      <th></th>\n",
       "      <th></th>\n",
       "      <th></th>\n",
       "      <th></th>\n",
       "      <th></th>\n",
       "      <th></th>\n",
       "      <th></th>\n",
       "    </tr>\n",
       "  </thead>\n",
       "  <tbody>\n",
       "    <tr>\n",
       "      <th>1</th>\n",
       "      <td>6.0</td>\n",
       "      <td>13.0</td>\n",
       "      <td>3</td>\n",
       "      <td>6</td>\n",
       "      <td>9.0</td>\n",
       "      <td>11.5</td>\n",
       "      <td>23</td>\n",
       "      <td>29</td>\n",
       "      <td>Affenpinscher</td>\n",
       "      <td>Small rodent hunting, lapdog</td>\n",
       "      <td>Toy</td>\n",
       "      <td>10</td>\n",
       "      <td>12</td>\n",
       "      <td>Stubborn, Curious, Playful, Adventurous, Activ...</td>\n",
       "      <td>Germany, France</td>\n",
       "      <td>BJa4kxc4X</td>\n",
       "      <td>{'id': 'BJa4kxc4X', 'width': 1600, 'height': 1...</td>\n",
       "      <td>NaN</td>\n",
       "    </tr>\n",
       "    <tr>\n",
       "      <th>2</th>\n",
       "      <td>50.0</td>\n",
       "      <td>60.0</td>\n",
       "      <td>23</td>\n",
       "      <td>27</td>\n",
       "      <td>25.0</td>\n",
       "      <td>27.0</td>\n",
       "      <td>64</td>\n",
       "      <td>69</td>\n",
       "      <td>Afghan Hound</td>\n",
       "      <td>Coursing and hunting</td>\n",
       "      <td>Hound</td>\n",
       "      <td>10</td>\n",
       "      <td>13</td>\n",
       "      <td>Aloof, Clownish, Dignified, Independent, Happy</td>\n",
       "      <td>Afghanistan, Iran, Pakistan</td>\n",
       "      <td>hMyT4CDXR</td>\n",
       "      <td>{'id': 'hMyT4CDXR', 'width': 606, 'height': 38...</td>\n",
       "      <td>AG</td>\n",
       "    </tr>\n",
       "    <tr>\n",
       "      <th>3</th>\n",
       "      <td>44.0</td>\n",
       "      <td>66.0</td>\n",
       "      <td>20</td>\n",
       "      <td>30</td>\n",
       "      <td>30.0</td>\n",
       "      <td>30.0</td>\n",
       "      <td>76</td>\n",
       "      <td>76</td>\n",
       "      <td>African Hunting Dog</td>\n",
       "      <td>A wild pack animal</td>\n",
       "      <td>NaN</td>\n",
       "      <td>11</td>\n",
       "      <td>11</td>\n",
       "      <td>Wild, Hardworking, Dutiful</td>\n",
       "      <td>NaN</td>\n",
       "      <td>rkiByec47</td>\n",
       "      <td>{'id': 'rkiByec47', 'width': 500, 'height': 33...</td>\n",
       "      <td>NaN</td>\n",
       "    </tr>\n",
       "    <tr>\n",
       "      <th>4</th>\n",
       "      <td>40.0</td>\n",
       "      <td>65.0</td>\n",
       "      <td>18</td>\n",
       "      <td>29</td>\n",
       "      <td>21.0</td>\n",
       "      <td>23.0</td>\n",
       "      <td>53</td>\n",
       "      <td>58</td>\n",
       "      <td>Airedale Terrier</td>\n",
       "      <td>Badger, otter hunting</td>\n",
       "      <td>Terrier</td>\n",
       "      <td>10</td>\n",
       "      <td>13</td>\n",
       "      <td>Outgoing, Friendly, Alert, Confident, Intellig...</td>\n",
       "      <td>United Kingdom, England</td>\n",
       "      <td>1-7cgoZSh</td>\n",
       "      <td>{'id': '1-7cgoZSh', 'width': 645, 'height': 43...</td>\n",
       "      <td>NaN</td>\n",
       "    </tr>\n",
       "    <tr>\n",
       "      <th>5</th>\n",
       "      <td>90.0</td>\n",
       "      <td>120.0</td>\n",
       "      <td>41</td>\n",
       "      <td>54</td>\n",
       "      <td>28.0</td>\n",
       "      <td>34.0</td>\n",
       "      <td>71</td>\n",
       "      <td>86</td>\n",
       "      <td>Akbash Dog</td>\n",
       "      <td>Sheep guarding</td>\n",
       "      <td>Working</td>\n",
       "      <td>10</td>\n",
       "      <td>12</td>\n",
       "      <td>Loyal, Independent, Intelligent, Brave</td>\n",
       "      <td>NaN</td>\n",
       "      <td>26pHT3Qk7</td>\n",
       "      <td>{'id': '26pHT3Qk7', 'width': 600, 'height': 47...</td>\n",
       "      <td>NaN</td>\n",
       "    </tr>\n",
       "    <tr>\n",
       "      <th>...</th>\n",
       "      <td>...</td>\n",
       "      <td>...</td>\n",
       "      <td>...</td>\n",
       "      <td>...</td>\n",
       "      <td>...</td>\n",
       "      <td>...</td>\n",
       "      <td>...</td>\n",
       "      <td>...</td>\n",
       "      <td>...</td>\n",
       "      <td>...</td>\n",
       "      <td>...</td>\n",
       "      <td>...</td>\n",
       "      <td>...</td>\n",
       "      <td>...</td>\n",
       "      <td>...</td>\n",
       "      <td>...</td>\n",
       "      <td>...</td>\n",
       "      <td>...</td>\n",
       "    </tr>\n",
       "    <tr>\n",
       "      <th>259</th>\n",
       "      <td>15.0</td>\n",
       "      <td>19.0</td>\n",
       "      <td>7</td>\n",
       "      <td>9</td>\n",
       "      <td>13.0</td>\n",
       "      <td>16.0</td>\n",
       "      <td>33</td>\n",
       "      <td>41</td>\n",
       "      <td>Wire Fox Terrier</td>\n",
       "      <td>Vermin hunting, fox bolting</td>\n",
       "      <td>NaN</td>\n",
       "      <td>13</td>\n",
       "      <td>14</td>\n",
       "      <td>Fearless, Friendly, Bold, Keen, Alert, Quick</td>\n",
       "      <td>NaN</td>\n",
       "      <td>SJ6f2g9EQ</td>\n",
       "      <td>{'id': 'SJ6f2g9EQ', 'width': 1000, 'height': 7...</td>\n",
       "      <td>NaN</td>\n",
       "    </tr>\n",
       "    <tr>\n",
       "      <th>260</th>\n",
       "      <td>45.0</td>\n",
       "      <td>70.0</td>\n",
       "      <td>20</td>\n",
       "      <td>32</td>\n",
       "      <td>20.0</td>\n",
       "      <td>24.0</td>\n",
       "      <td>51</td>\n",
       "      <td>61</td>\n",
       "      <td>Wirehaired Pointing Griffon</td>\n",
       "      <td>Gundog, \"swamp-tromping\", Flushing, pointing, ...</td>\n",
       "      <td>Sporting</td>\n",
       "      <td>12</td>\n",
       "      <td>14</td>\n",
       "      <td>Loyal, Gentle, Vigilant, Trainable, Proud</td>\n",
       "      <td>NaN</td>\n",
       "      <td>Bkam2l9Vm</td>\n",
       "      <td>{'id': 'Bkam2l9Vm', 'width': 2328, 'height': 1...</td>\n",
       "      <td>NaN</td>\n",
       "    </tr>\n",
       "    <tr>\n",
       "      <th>261</th>\n",
       "      <td>45.0</td>\n",
       "      <td>65.0</td>\n",
       "      <td>20</td>\n",
       "      <td>29</td>\n",
       "      <td>21.5</td>\n",
       "      <td>25.0</td>\n",
       "      <td>55</td>\n",
       "      <td>64</td>\n",
       "      <td>Wirehaired Vizsla</td>\n",
       "      <td>NaN</td>\n",
       "      <td>Sporting</td>\n",
       "      <td>12</td>\n",
       "      <td>14</td>\n",
       "      <td>NaN</td>\n",
       "      <td>NaN</td>\n",
       "      <td>r1I4hl5Em</td>\n",
       "      <td>{'id': 'r1I4hl5Em', 'width': 1024, 'height': 7...</td>\n",
       "      <td>NaN</td>\n",
       "    </tr>\n",
       "    <tr>\n",
       "      <th>262</th>\n",
       "      <td>9.0</td>\n",
       "      <td>31.0</td>\n",
       "      <td>4</td>\n",
       "      <td>14</td>\n",
       "      <td>10.0</td>\n",
       "      <td>23.0</td>\n",
       "      <td>25</td>\n",
       "      <td>58</td>\n",
       "      <td>Xoloitzcuintli</td>\n",
       "      <td>NaN</td>\n",
       "      <td>Non-Sporting</td>\n",
       "      <td>12</td>\n",
       "      <td>14</td>\n",
       "      <td>Cheerful, Alert, Companionable, Intelligent, P...</td>\n",
       "      <td>NaN</td>\n",
       "      <td>HkNS3gqEm</td>\n",
       "      <td>{'id': 'HkNS3gqEm', 'width': 1500, 'height': 1...</td>\n",
       "      <td>NaN</td>\n",
       "    </tr>\n",
       "    <tr>\n",
       "      <th>264</th>\n",
       "      <td>4.0</td>\n",
       "      <td>7.0</td>\n",
       "      <td>2</td>\n",
       "      <td>3</td>\n",
       "      <td>8.0</td>\n",
       "      <td>9.0</td>\n",
       "      <td>20</td>\n",
       "      <td>23</td>\n",
       "      <td>Yorkshire Terrier</td>\n",
       "      <td>Small vermin hunting</td>\n",
       "      <td>Toy</td>\n",
       "      <td>12</td>\n",
       "      <td>16</td>\n",
       "      <td>Bold, Independent, Confident, Intelligent, Cou...</td>\n",
       "      <td>NaN</td>\n",
       "      <td>B12BnxcVQ</td>\n",
       "      <td>{'id': 'B12BnxcVQ', 'width': 1024, 'height': 6...</td>\n",
       "      <td>NaN</td>\n",
       "    </tr>\n",
       "  </tbody>\n",
       "</table>\n",
       "<p>172 rows × 18 columns</p>\n",
       "</div>"
      ],
      "text/plain": [
       "     imperial_weight_min  imperial_weight_max  metric_weight_min  \\\n",
       "id                                                                 \n",
       "1                    6.0                 13.0                  3   \n",
       "2                   50.0                 60.0                 23   \n",
       "3                   44.0                 66.0                 20   \n",
       "4                   40.0                 65.0                 18   \n",
       "5                   90.0                120.0                 41   \n",
       "..                   ...                  ...                ...   \n",
       "259                 15.0                 19.0                  7   \n",
       "260                 45.0                 70.0                 20   \n",
       "261                 45.0                 65.0                 20   \n",
       "262                  9.0                 31.0                  4   \n",
       "264                  4.0                  7.0                  2   \n",
       "\n",
       "     metric_weight_max  imperial_height_min  imperial_height_max  \\\n",
       "id                                                                 \n",
       "1                    6                  9.0                 11.5   \n",
       "2                   27                 25.0                 27.0   \n",
       "3                   30                 30.0                 30.0   \n",
       "4                   29                 21.0                 23.0   \n",
       "5                   54                 28.0                 34.0   \n",
       "..                 ...                  ...                  ...   \n",
       "259                  9                 13.0                 16.0   \n",
       "260                 32                 20.0                 24.0   \n",
       "261                 29                 21.5                 25.0   \n",
       "262                 14                 10.0                 23.0   \n",
       "264                  3                  8.0                  9.0   \n",
       "\n",
       "     metric_height_min  metric_height_max                         name  \\\n",
       "id                                                                       \n",
       "1                   23                 29                Affenpinscher   \n",
       "2                   64                 69                 Afghan Hound   \n",
       "3                   76                 76          African Hunting Dog   \n",
       "4                   53                 58             Airedale Terrier   \n",
       "5                   71                 86                   Akbash Dog   \n",
       "..                 ...                ...                          ...   \n",
       "259                 33                 41             Wire Fox Terrier   \n",
       "260                 51                 61  Wirehaired Pointing Griffon   \n",
       "261                 55                 64            Wirehaired Vizsla   \n",
       "262                 25                 58               Xoloitzcuintli   \n",
       "264                 20                 23            Yorkshire Terrier   \n",
       "\n",
       "                                              bred_for   breed_group  \\\n",
       "id                                                                     \n",
       "1                         Small rodent hunting, lapdog           Toy   \n",
       "2                                 Coursing and hunting         Hound   \n",
       "3                                   A wild pack animal           NaN   \n",
       "4                                Badger, otter hunting       Terrier   \n",
       "5                                       Sheep guarding       Working   \n",
       "..                                                 ...           ...   \n",
       "259                        Vermin hunting, fox bolting           NaN   \n",
       "260  Gundog, \"swamp-tromping\", Flushing, pointing, ...      Sporting   \n",
       "261                                                NaN      Sporting   \n",
       "262                                                NaN  Non-Sporting   \n",
       "264                               Small vermin hunting           Toy   \n",
       "\n",
       "     min_life_span  max_life_span  \\\n",
       "id                                  \n",
       "1               10             12   \n",
       "2               10             13   \n",
       "3               11             11   \n",
       "4               10             13   \n",
       "5               10             12   \n",
       "..             ...            ...   \n",
       "259             13             14   \n",
       "260             12             14   \n",
       "261             12             14   \n",
       "262             12             14   \n",
       "264             12             16   \n",
       "\n",
       "                                           temperament  \\\n",
       "id                                                       \n",
       "1    Stubborn, Curious, Playful, Adventurous, Activ...   \n",
       "2       Aloof, Clownish, Dignified, Independent, Happy   \n",
       "3                           Wild, Hardworking, Dutiful   \n",
       "4    Outgoing, Friendly, Alert, Confident, Intellig...   \n",
       "5               Loyal, Independent, Intelligent, Brave   \n",
       "..                                                 ...   \n",
       "259       Fearless, Friendly, Bold, Keen, Alert, Quick   \n",
       "260          Loyal, Gentle, Vigilant, Trainable, Proud   \n",
       "261                                                NaN   \n",
       "262  Cheerful, Alert, Companionable, Intelligent, P...   \n",
       "264  Bold, Independent, Confident, Intelligent, Cou...   \n",
       "\n",
       "                          origin reference_image_id  \\\n",
       "id                                                    \n",
       "1                Germany, France          BJa4kxc4X   \n",
       "2    Afghanistan, Iran, Pakistan          hMyT4CDXR   \n",
       "3                            NaN          rkiByec47   \n",
       "4        United Kingdom, England          1-7cgoZSh   \n",
       "5                            NaN          26pHT3Qk7   \n",
       "..                           ...                ...   \n",
       "259                          NaN          SJ6f2g9EQ   \n",
       "260                          NaN          Bkam2l9Vm   \n",
       "261                          NaN          r1I4hl5Em   \n",
       "262                          NaN          HkNS3gqEm   \n",
       "264                          NaN          B12BnxcVQ   \n",
       "\n",
       "                                                 image country_code  \n",
       "id                                                                   \n",
       "1    {'id': 'BJa4kxc4X', 'width': 1600, 'height': 1...          NaN  \n",
       "2    {'id': 'hMyT4CDXR', 'width': 606, 'height': 38...           AG  \n",
       "3    {'id': 'rkiByec47', 'width': 500, 'height': 33...          NaN  \n",
       "4    {'id': '1-7cgoZSh', 'width': 645, 'height': 43...          NaN  \n",
       "5    {'id': '26pHT3Qk7', 'width': 600, 'height': 47...          NaN  \n",
       "..                                                 ...          ...  \n",
       "259  {'id': 'SJ6f2g9EQ', 'width': 1000, 'height': 7...          NaN  \n",
       "260  {'id': 'Bkam2l9Vm', 'width': 2328, 'height': 1...          NaN  \n",
       "261  {'id': 'r1I4hl5Em', 'width': 1024, 'height': 7...          NaN  \n",
       "262  {'id': 'HkNS3gqEm', 'width': 1500, 'height': 1...          NaN  \n",
       "264  {'id': 'B12BnxcVQ', 'width': 1024, 'height': 6...          NaN  \n",
       "\n",
       "[172 rows x 18 columns]"
      ]
     },
     "execution_count": 27,
     "metadata": {},
     "output_type": "execute_result"
    }
   ],
   "source": [
    "pet_df"
   ]
  },
  {
   "cell_type": "code",
   "execution_count": null,
   "metadata": {},
   "outputs": [],
   "source": [
    "def get_histogram(column):\n",
    "    return"
   ]
  },
  {
   "cell_type": "code",
   "execution_count": null,
   "metadata": {},
   "outputs": [],
   "source": []
  }
 ],
 "metadata": {
  "kernelspec": {
   "display_name": "Python 3.9.12 ('base')",
   "language": "python",
   "name": "python3"
  },
  "language_info": {
   "codemirror_mode": {
    "name": "ipython",
    "version": 3
   },
   "file_extension": ".py",
   "mimetype": "text/x-python",
   "name": "python",
   "nbconvert_exporter": "python",
   "pygments_lexer": "ipython3",
   "version": "3.9.12"
  },
  "orig_nbformat": 4,
  "vscode": {
   "interpreter": {
    "hash": "8ebbe791c94545ec8cdef6f47824dfcf79475510df651a3e0cdaaedfa8e5620f"
   }
  }
 },
 "nbformat": 4,
 "nbformat_minor": 2
}
