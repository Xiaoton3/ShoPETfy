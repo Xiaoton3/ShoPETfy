{
 "cells": [
  {
   "cell_type": "markdown",
   "metadata": {},
   "source": [
    "## Import Modules"
   ]
  },
  {
   "cell_type": "code",
   "execution_count": 4,
   "metadata": {},
   "outputs": [],
   "source": [
    "import requests\n",
    "import json\n",
    "import pandas as pd"
   ]
  },
  {
   "cell_type": "markdown",
   "metadata": {},
   "source": [
    "## All Breeds Endpoint"
   ]
  },
  {
   "cell_type": "code",
   "execution_count": 29,
   "metadata": {},
   "outputs": [],
   "source": [
    "# call endpoint\n",
    "url = \"https://api.thedogapi.com/v1/breeds\"\n",
    "payload={}\n",
    "files={}\n",
    "headers = {\n",
    "  'Content-Type': 'application/json'\n",
    "}\n",
    "\n",
    "response = requests.request(\"GET\", url, headers=headers, data=payload, files=files)\n",
    "\n",
    "df = pd.read_json(response.text)"
   ]
  },
  {
   "cell_type": "code",
   "execution_count": 30,
   "metadata": {},
   "outputs": [],
   "source": [
    "# save raw response to csv\n",
    "df.to_csv('pet_raw.csv', index='False')"
   ]
  },
  {
   "cell_type": "code",
   "execution_count": 34,
   "metadata": {},
   "outputs": [
    {
     "data": {
      "text/html": [
       "<div>\n",
       "<style scoped>\n",
       "    .dataframe tbody tr th:only-of-type {\n",
       "        vertical-align: middle;\n",
       "    }\n",
       "\n",
       "    .dataframe tbody tr th {\n",
       "        vertical-align: top;\n",
       "    }\n",
       "\n",
       "    .dataframe thead th {\n",
       "        text-align: right;\n",
       "    }\n",
       "</style>\n",
       "<table border=\"1\" class=\"dataframe\">\n",
       "  <thead>\n",
       "    <tr style=\"text-align: right;\">\n",
       "      <th></th>\n",
       "      <th>weight</th>\n",
       "      <th>height</th>\n",
       "      <th>id</th>\n",
       "      <th>name</th>\n",
       "      <th>bred_for</th>\n",
       "      <th>breed_group</th>\n",
       "      <th>life_span</th>\n",
       "      <th>temperament</th>\n",
       "      <th>origin</th>\n",
       "      <th>reference_image_id</th>\n",
       "      <th>image</th>\n",
       "      <th>country_code</th>\n",
       "      <th>description</th>\n",
       "      <th>history</th>\n",
       "    </tr>\n",
       "  </thead>\n",
       "  <tbody>\n",
       "    <tr>\n",
       "      <th>10</th>\n",
       "      <td>{'imperial': '30 - 150', 'metric': '14 - 68'}</td>\n",
       "      <td>{'imperial': '14 - 17', 'metric': '36 - 43'}</td>\n",
       "      <td>11</td>\n",
       "      <td>American Bully</td>\n",
       "      <td>Family companion dog</td>\n",
       "      <td></td>\n",
       "      <td>8 – 15 years</td>\n",
       "      <td>Strong Willed, Stubborn, Friendly, Clownish, A...</td>\n",
       "      <td>NaN</td>\n",
       "      <td>sqQJDtbpY</td>\n",
       "      <td>{'id': 'sqQJDtbpY', 'width': 1024, 'height': 6...</td>\n",
       "      <td>US</td>\n",
       "      <td>NaN</td>\n",
       "      <td>NaN</td>\n",
       "    </tr>\n",
       "  </tbody>\n",
       "</table>\n",
       "</div>"
      ],
      "text/plain": [
       "                                           weight  \\\n",
       "10  {'imperial': '30 - 150', 'metric': '14 - 68'}   \n",
       "\n",
       "                                          height  id            name  \\\n",
       "10  {'imperial': '14 - 17', 'metric': '36 - 43'}  11  American Bully   \n",
       "\n",
       "                bred_for breed_group     life_span  \\\n",
       "10  Family companion dog              8 – 15 years   \n",
       "\n",
       "                                          temperament origin  \\\n",
       "10  Strong Willed, Stubborn, Friendly, Clownish, A...    NaN   \n",
       "\n",
       "   reference_image_id                                              image  \\\n",
       "10          sqQJDtbpY  {'id': 'sqQJDtbpY', 'width': 1024, 'height': 6...   \n",
       "\n",
       "   country_code description history  \n",
       "10           US         NaN     NaN  "
      ]
     },
     "execution_count": 34,
     "metadata": {},
     "output_type": "execute_result"
    }
   ],
   "source": [
    "df.iloc[[10]]"
   ]
  },
  {
   "cell_type": "code",
   "execution_count": null,
   "metadata": {},
   "outputs": [],
   "source": []
  },
  {
   "cell_type": "markdown",
   "metadata": {},
   "source": [
    "## Individual Breed Endpoint"
   ]
  },
  {
   "cell_type": "code",
   "execution_count": 40,
   "metadata": {},
   "outputs": [],
   "source": [
    "import requests\n",
    "\n",
    "url = \"https://api.thedogapi.com/v1/breeds/20\"\n",
    "payload={}\n",
    "files={}\n",
    "headers = {}\n",
    "\n",
    "response = requests.request(\"GET\", url, headers=headers, data=payload, files=files)\n",
    "\n",
    "dog = pd.read_json(response.text)"
   ]
  },
  {
   "cell_type": "code",
   "execution_count": 41,
   "metadata": {},
   "outputs": [
    {
     "data": {
      "text/html": [
       "<div>\n",
       "<style scoped>\n",
       "    .dataframe tbody tr th:only-of-type {\n",
       "        vertical-align: middle;\n",
       "    }\n",
       "\n",
       "    .dataframe tbody tr th {\n",
       "        vertical-align: top;\n",
       "    }\n",
       "\n",
       "    .dataframe thead th {\n",
       "        text-align: right;\n",
       "    }\n",
       "</style>\n",
       "<table border=\"1\" class=\"dataframe\">\n",
       "  <thead>\n",
       "    <tr style=\"text-align: right;\">\n",
       "      <th></th>\n",
       "      <th>weight</th>\n",
       "      <th>height</th>\n",
       "      <th>id</th>\n",
       "      <th>name</th>\n",
       "      <th>breed_group</th>\n",
       "      <th>life_span</th>\n",
       "    </tr>\n",
       "  </thead>\n",
       "  <tbody>\n",
       "    <tr>\n",
       "      <th>imperial</th>\n",
       "      <td>25 - 70</td>\n",
       "      <td>varies</td>\n",
       "      <td>20</td>\n",
       "      <td>Aussiedoodle</td>\n",
       "      <td>Mixed</td>\n",
       "      <td>10 - 12 years</td>\n",
       "    </tr>\n",
       "    <tr>\n",
       "      <th>metric</th>\n",
       "      <td>11 - 32</td>\n",
       "      <td>varies</td>\n",
       "      <td>20</td>\n",
       "      <td>Aussiedoodle</td>\n",
       "      <td>Mixed</td>\n",
       "      <td>10 - 12 years</td>\n",
       "    </tr>\n",
       "  </tbody>\n",
       "</table>\n",
       "</div>"
      ],
      "text/plain": [
       "           weight  height  id          name breed_group      life_span\n",
       "imperial  25 - 70  varies  20  Aussiedoodle       Mixed  10 - 12 years\n",
       "metric    11 - 32  varies  20  Aussiedoodle       Mixed  10 - 12 years"
      ]
     },
     "execution_count": 41,
     "metadata": {},
     "output_type": "execute_result"
    }
   ],
   "source": [
    "dog"
   ]
  },
  {
   "cell_type": "code",
   "execution_count": null,
   "metadata": {},
   "outputs": [],
   "source": []
  },
  {
   "cell_type": "code",
   "execution_count": null,
   "metadata": {},
   "outputs": [],
   "source": []
  }
 ],
 "metadata": {
  "kernelspec": {
   "display_name": "Python 3.9.12 ('base')",
   "language": "python",
   "name": "python3"
  },
  "language_info": {
   "codemirror_mode": {
    "name": "ipython",
    "version": 3
   },
   "file_extension": ".py",
   "mimetype": "text/x-python",
   "name": "python",
   "nbconvert_exporter": "python",
   "pygments_lexer": "ipython3",
   "version": "3.9.12"
  },
  "orig_nbformat": 4,
  "vscode": {
   "interpreter": {
    "hash": "8ebbe791c94545ec8cdef6f47824dfcf79475510df651a3e0cdaaedfa8e5620f"
   }
  }
 },
 "nbformat": 4,
 "nbformat_minor": 2
}
